{
 "cells": [
  {
   "cell_type": "markdown",
   "id": "c328429a",
   "metadata": {},
   "source": [
    "# Obligatorio 1 - Algoritmos\n",
    "\n",
    "Nombre del estudiante: Patricio Carrau\n",
    "\n",
    "Debajo de cada pregunta o tarea incluya las celdas necesarias para desarrolar la respuesta. Puede usar una o varias celdas de código o mark down (https://www.datacamp.com/community/tutorials/markdown-in-jupyter-notebook)\n",
    "\n",
    "Para entregar, renombrar este notebook como \"Obligatorio 1 - Apellido Nombre\" \n"
   ]
  },
  {
   "cell_type": "code",
   "execution_count": 13,
   "outputs": [],
   "source": [
    "import matplotlib.pyplot as plt\n",
    "from datetime import datetime\n",
    "import numpy as np\n",
    "import progressbar\n",
    "import random\n",
    "from time import sleep"
   ],
   "metadata": {
    "collapsed": false,
    "pycharm": {
     "name": "#%%\n"
    }
   }
  },
  {
   "cell_type": "markdown",
   "id": "517de5d8",
   "metadata": {},
   "source": [
    "## Ejercicio 1\n",
    "Implementar en python el binary search: busca un elemento en un arreglo/lista ordenado empezando por la mitad y descartando mitades).\n",
    "Implementar estos algoritmos en forma NO recursiva. Agregar assertions a su algoritmo"
   ]
  },
  {
   "cell_type": "code",
   "execution_count": 14,
   "id": "d36f60c0",
   "metadata": {},
   "outputs": [],
   "source": [
    "def binary_search(arr, element, sleep_time):\n",
    "    pos_min = 0\n",
    "    pos_max = len(arr)-1\n",
    "\n",
    "    while pos_min <= pos_max:\n",
    "        pos_mid = (pos_min+pos_max) // 2\n",
    "\n",
    "        if arr[pos_mid] > element:\n",
    "            pos_max = pos_mid - 1\n",
    "        elif arr[pos_mid] < element:\n",
    "            pos_min = pos_mid + 1\n",
    "        else:\n",
    "            return pos_mid\n",
    "    return -1"
   ]
  },
  {
   "cell_type": "code",
   "execution_count": 15,
   "id": "ae1202aa",
   "metadata": {
    "pycharm": {
     "name": "#%%\n"
    }
   },
   "outputs": [],
   "source": [
    "arr = [1, 2, 3, 4, 5, 6, 7, 8, 9, 10, 11, 12, 13, 15, 16, 17, 18, 19, 20]\n",
    "position1 = binary_search(arr, 5, 0)\n",
    "position2 = binary_search(arr, 14, 0)\n",
    "position3 = binary_search(arr, 11, 0)\n",
    "\n",
    "assert position1 == 4\n",
    "assert position2 == -1\n",
    "assert position3 == 10"
   ]
  },
  {
   "cell_type": "markdown",
   "id": "d398aef2",
   "metadata": {},
   "source": [
    "## Ejercicio 2\n",
    "Implementar en python find_min (busca el mínimo elemento de un sub-arreglo/lista y retorna su índice). Agregar assertions a su algoritmo\n"
   ]
  },
  {
   "cell_type": "code",
   "execution_count": 16,
   "id": "c8939995",
   "metadata": {},
   "outputs": [],
   "source": [
    "def find_min(elements, from_index, to_index, sleep_time):\n",
    "    index_min = from_index\n",
    "    for index in range(from_index, to_index):\n",
    "        sleep(sleep_time)\n",
    "        if elements[index] < elements[index_min]:\n",
    "            sleep(sleep_time)\n",
    "            index_min = index\n",
    "    return index_min\n"
   ]
  },
  {
   "cell_type": "code",
   "execution_count": 17,
   "id": "17e31dcd",
   "metadata": {
    "pycharm": {
     "name": "#%%\n"
    }
   },
   "outputs": [],
   "source": [
    "elements = [10, 3, 11, 2, 8, 9, 6, 17, 4, 15, 16, 12, 5, 7, 20, 1, 13, 19, 18]\n",
    "\n",
    "min1 = find_min(elements, 0, 6, 0)\n",
    "min2 = find_min(elements, 8, 14, 0)\n",
    "min3 = find_min(elements, 3, 17, 0)\n",
    "\n",
    "assert min1 == 3\n",
    "assert min2 == 8\n",
    "assert min3 == 15\n"
   ]
  },
  {
   "cell_type": "markdown",
   "id": "376e62f7",
   "metadata": {},
   "source": [
    "## Ejercicio 3\n",
    "Implementar en python selection sort (ordena el arreglo empezando por buscar el mínimo e intercambiándolo por el del primer lugar, luego busca el mínimo del resto de la lista y lo intercambia\n",
    "por el del segundo lugar, etc). Crear assertions para su algoritmo."
   ]
  },
  {
   "cell_type": "code",
   "execution_count": 18,
   "id": "c148142b",
   "metadata": {},
   "outputs": [],
   "source": [
    "def selection_sort(elements, sleep_time):\n",
    "    for i in range(len(elements)):\n",
    "        index = find_min(elements, i, len(elements), sleep_time)\n",
    "        elements[i], elements[index] = elements[index], elements[i]\n"
   ]
  },
  {
   "cell_type": "code",
   "execution_count": 19,
   "outputs": [
    {
     "name": "stdout",
     "output_type": "stream",
     "text": [
      "[11, 12, 22, 25, 64]\n"
     ]
    }
   ],
   "source": [
    "elements = [64, 25, 12, 22, 11]\n",
    "selection_sort(elements, 0)\n",
    "print(elements)"
   ],
   "metadata": {
    "collapsed": false,
    "pycharm": {
     "name": "#%%\n"
    }
   }
  },
  {
   "cell_type": "markdown",
   "id": "3443fc56",
   "metadata": {},
   "source": [
    "## Ejercicio 4\n",
    "Usando matplotlib (https://jakevdp.github.io/PythonDataScienceHandbook/04.02-simple-scatter-plots.html) crear una gráfica con los tiempos de ejecución. \n",
    "Es decir computar la duración del algoritmo para distintos n (el tamaño del arreglo/lista). \n",
    "Tomar el máximo n suficientemente grande de tal forma que correr tome algunos minutos. Si fuera necesario, puede agregar sleep() junto a las instrucciones para enlentencer el procesamiento (https://www.programiz.com/python-programming/time/sleep)\n"
   ]
  },
  {
   "cell_type": "markdown",
   "id": "8ac39dee",
   "metadata": {
    "pycharm": {
     "name": "#%% md\n"
    }
   },
   "source": [
    "#### 1"
   ]
  },
  {
   "cell_type": "code",
   "execution_count": 20,
   "id": "3f455061",
   "metadata": {
    "pycharm": {
     "name": "#%%\n"
    }
   },
   "outputs": [
    {
     "name": "stderr",
     "output_type": "stream",
     "text": [
      "N/A% (0 of 200) |                        | Elapsed Time: 0:00:00 ETA:  --:--:--"
     ]
    }
   ],
   "source": [
    "cantidad = 200\n",
    "\n",
    "n = list(range(1, cantidad))\n",
    "t = []\n",
    "\n",
    "bar_progres = 0\n",
    "bar_positive = progressbar.ProgressBar(max_value=cantidad)\n",
    "bar_positive.update(bar_progres)\n",
    "\n",
    "for size in range(1, cantidad):\n",
    "    arr_ran = np.random.randint(0, 100 if size > 100 else size, size=size)\n",
    "    start = datetime.now()\n",
    "    number = random.choice(arr_ran)\n",
    "    binary_search(arr_ran, number, 0.05)\n",
    "    time = datetime.now() - start\n",
    "    t.append(time.microseconds)\n",
    "    bar_progres += 1\n",
    "    bar_positive.update(bar_progres)\n",
    "\n",
    "t = np.array(t)\n",
    "n = np.array(n)"
   ]
  },
  {
   "cell_type": "code",
   "execution_count": 21,
   "id": "7bb365d2",
   "metadata": {
    "pycharm": {
     "name": "#%%\n"
    }
   },
   "outputs": [
    {
     "data": {
      "text/plain": "<Figure size 432x288 with 1 Axes>",
      "image/png": "[encoded data removed]"
     },
     "metadata": {
      "needs_background": "light"
     },
     "output_type": "display_data"
    }
   ],
   "source": [
    "plt.plot(n, t, 'o')\n",
    "plt.ylabel('tiempo')\n",
    "plt.xlabel('tamaño')\n",
    "plt.show()\n"
   ]
  },
  {
   "cell_type": "markdown",
   "id": "1cabaa51",
   "metadata": {
    "pycharm": {
     "name": "#%% md\n"
    }
   },
   "source": [
    "#### 2"
   ]
  },
  {
   "cell_type": "code",
   "execution_count": 22,
   "id": "30325502",
   "metadata": {
    "pycharm": {
     "name": "#%%\n"
    }
   },
   "outputs": [
    {
     "name": "stderr",
     "output_type": "stream",
     "text": [
      " 99% (99 of 100) |###################### | Elapsed Time: 0:05:25 ETA:   0:00:06"
     ]
    }
   ],
   "source": [
    "cantidad = 100\n",
    "\n",
    "n = list(range(1, cantidad))\n",
    "t = []\n",
    "\n",
    "bar_progres = 0\n",
    "bar_positive = progressbar.ProgressBar(max_value=cantidad)\n",
    "bar_positive.update(bar_progres)\n",
    "\n",
    "for size in range(1, cantidad):\n",
    "    arr_ran = np.random.randint(0, 100, size=size)\n",
    "    start = datetime.now()\n",
    "    find_min(arr_ran, 0, len(arr_ran), 0.05)\n",
    "    time = datetime.now() - start\n",
    "    t.append(time.microseconds)\n",
    "    bar_progres += 1\n",
    "    bar_positive.update(bar_progres)\n",
    "\n",
    "t = np.array(t)\n",
    "n = np.array(n)\n"
   ]
  },
  {
   "cell_type": "code",
   "execution_count": 23,
   "id": "63d8f374",
   "metadata": {
    "pycharm": {
     "name": "#%%\n"
    }
   },
   "outputs": [
    {
     "data": {
      "text/plain": "<Figure size 432x288 with 1 Axes>",
      "image/png": "[encoded data removed]"
     },
     "metadata": {
      "needs_background": "light"
     },
     "output_type": "display_data"
    }
   ],
   "source": [
    "plt.plot(n, t, 'o')\n",
    "plt.ylabel('tiempo')\n",
    "plt.xlabel('tamaño')\n",
    "plt.show()"
   ]
  },
  {
   "cell_type": "markdown",
   "id": "b4275b7c",
   "metadata": {},
   "source": [
    "#### 3"
   ]
  },
  {
   "cell_type": "code",
   "execution_count": 24,
   "id": "a4200590",
   "metadata": {
    "pycharm": {
     "name": "#%%\n"
    }
   },
   "outputs": [
    {
     "name": "stderr",
     "output_type": "stream",
     "text": [
      "N/A% (0 of 50) |                         | Elapsed Time: 0:00:00 ETA:  --:--:--"
     ]
    }
   ],
   "source": [
    "cantidad = 50\n",
    "\n",
    "n = list(range(0, cantidad))\n",
    "t = []\n",
    "\n",
    "bar_progres = 0\n",
    "bar_positive = progressbar.ProgressBar(max_value=cantidad)\n",
    "bar_positive.update(bar_progres)\n",
    "\n",
    "for size in range(cantidad):\n",
    "    arr_ran = np.random.randint(0, 100, size=size)\n",
    "    start = datetime.now()\n",
    "    selection_sort(arr_ran, 0)\n",
    "    time = datetime.now() - start\n",
    "    t.append(time.microseconds)\n",
    "    bar_progres += 1\n",
    "    bar_positive.update(bar_progres)\n",
    "\n",
    "t = np.array(t)\n",
    "n = np.array(n)"
   ]
  },
  {
   "cell_type": "code",
   "execution_count": 25,
   "id": "80b974f2",
   "metadata": {
    "pycharm": {
     "name": "#%%\n"
    }
   },
   "outputs": [
    {
     "data": {
      "text/plain": "<Figure size 432x288 with 1 Axes>",
      "image/png": "[encoded data removed]"
     },
     "metadata": {
      "needs_background": "light"
     },
     "output_type": "display_data"
    }
   ],
   "source": [
    "plt.plot(n, t, 'o')\n",
    "plt.ylabel('tiempo')\n",
    "plt.xlabel('tamaño')\n",
    "plt.show()\n"
   ]
  }
 ],
 "metadata": {
  "interpreter": {
   "hash": "72802fbfa1d036d8a62eb5b2c634dd95cb89159f04a47e1d6bcfa7e4c8209daa"
  },
  "kernelspec": {
   "name": "pycharm-2c91d42c",
   "language": "python",
   "display_name": "PyCharm (algoritmos)"
  },
  "language_info": {
   "codemirror_mode": {
    "name": "ipython",
    "version": 3
   },
   "file_extension": ".py",
   "mimetype": "text/x-python",
   "name": "python",
   "nbconvert_exporter": "python",
   "pygments_lexer": "ipython3",
   "version": "3.9.7"
  }
 },
 "nbformat": 4,
 "nbformat_minor": 5
}