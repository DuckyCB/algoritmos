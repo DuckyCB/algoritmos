{
 "cells": [
  {
   "cell_type": "markdown",
   "id": "c328429a",
   "metadata": {},
   "source": [
    "# Obligatorio 1 - Algoritmos\n",
    "\n",
    "Nombre del estudiante: Patricio Carrau\n",
    "\n",
    "Debajo de cada pregunta o tarea incluya las celdas necesarias para desarrolar la respuesta. Puede usar una o varias celdas de código o mark down (https://www.datacamp.com/community/tutorials/markdown-in-jupyter-notebook)\n",
    "\n",
    "Para entregar, renombrar este notebook como \"Obligatorio 1 - Apellido Nombre\" \n"
   ]
  },
  {
   "cell_type": "markdown",
   "id": "517de5d8",
   "metadata": {},
   "source": [
    "## Ejercicio 1\n",
    "Implementar en python el binary search: busca un elemento en un arreglo/lista ordenado empezando por la mitad y descartando mitades).\n",
    "Implementar estos algoritmos en forma NO recursiva. Agregar assertions a su algoritmo"
   ]
  },
  {
   "cell_type": "code",
   "execution_count": 2,
   "id": "d36f60c0",
   "metadata": {},
   "outputs": [],
   "source": [
    "def binary_search(arr, element):\n",
    "    pos_min = 0\n",
    "    pos_max = len(arr)-1\n",
    "\n",
    "    while pos_min <= pos_max:\n",
    "        pos_mid = (pos_min+pos_max) // 2\n",
    "\n",
    "        if arr[pos_mid] > element:\n",
    "            pos_max = pos_mid - 1\n",
    "        elif arr[pos_mid] < element:\n",
    "            pos_min = pos_mid + 1\n",
    "        else:\n",
    "            return pos_mid\n",
    "    return -1\n",
    "\n",
    "arr = [1, 2, 3, 4, 5, 6, 7, 8, 9, 10, 11, 12, 13, 15, 16, 17, 18, 19, 20]\n",
    "position1 = binary_search(arr, 5)\n",
    "position2 = binary_search(arr, 14)\n",
    "position3 = binary_search(arr, 11)\n",
    "\n",
    "assert position1 == 4\n",
    "assert position2 == -1\n",
    "assert position3 == 10"
   ]
  },
  {
   "cell_type": "markdown",
   "id": "d398aef2",
   "metadata": {},
   "source": [
    "## Ejercicio 2\n",
    "Implementar en python find_min (busca el mínimo elemento de un sub-arreglo/lista y retorna su índice). Agregar assertions a su algoritmo\n"
   ]
  },
  {
   "cell_type": "code",
   "execution_count": 9,
   "id": "c8939995",
   "metadata": {},
   "outputs": [],
   "source": [
    "def find_min(elements, from_index, to_index):\n",
    "    index_min = from_index\n",
    "    for index in range(from_index, to_index):\n",
    "        if elements[index] < elements[index_min]:\n",
    "            index_min = index\n",
    "    return index_min\n",
    "\n",
    "elements = [10, 3, 11, 2, 8, 9, 6, 17, 4, 15, 16, 12, 5, 7, 20, 1, 13, 19, 18]\n",
    "\n",
    "min1 = find_min(elements, 0, 6)\n",
    "min2 = find_min(elements, 8, 14)\n",
    "min3 = find_min(elements, 3, 17)\n",
    "\n",
    "assert min1 == 3\n",
    "assert min2 == 8\n",
    "assert min3 == 15\n"
   ]
  },
  {
   "cell_type": "markdown",
   "id": "376e62f7",
   "metadata": {},
   "source": [
    "## Ejercicio 3\n",
    "Implementar en python selection sort (ordena el arreglo empezando por buscar el mínimo e intercambiándolo por el del primer lugar, luego busca el mínimo del resto de la lista y lo intercambia\n",
    "por el del segundo lugar, etc). Crear assertions para su algoritmo."
   ]
  },
  {
   "cell_type": "code",
   "execution_count": 10,
   "id": "c148142b",
   "metadata": {},
   "outputs": [],
   "source": [
    "def selection_sort(elements):\n",
    "    for i in range(len(elements)):\n",
    "        index = find_min(elements, i, len(elements))\n",
    "        elements[i], elements[index] = elements[index], elements[i]\n",
    "\n",
    "\n",
    "elements = [64, 25, 12, 22, 11]\n",
    "selection_sort(elements)\n",
    "print(elements)"
   ]
  },
  {
   "cell_type": "markdown",
   "id": "3443fc56",
   "metadata": {},
   "source": [
    "## Ejercicio 4\n",
    "Usando matplotlib (https://jakevdp.github.io/PythonDataScienceHandbook/04.02-simple-scatter-plots.html) crear una gráfica con los tiempos de ejecución. \n",
    "Es decir computar la duración del algoritmo para distintos n (el tamaño del arreglo/lista). \n",
    "Tomar el máximo n suficientemente grande de tal forma que correr tome algunos minutos. Si fuera necesario, puede agregar sleep() junto a las instrucciones para enlentencer el procesamiento (https://www.programiz.com/python-programming/time/sleep)  \n",
    "\n"
   ]
  },
  {
   "cell_type": "code",
   "execution_count": 1,
   "id": "a4dd0ad2",
   "metadata": {},
   "outputs": [],
   "source": [
    "import matplotlib.pyplot as plt\n",
    "import numpy as np"
   ]
  },
  {
   "cell_type": "code",
   "execution_count": 7,
   "outputs": [
    {
     "data": {
      "text/plain": "<Figure size 432x288 with 1 Axes>",
      "image/png": "[encoded data removed]"
     },
     "metadata": {
      "needs_background": "light"
     },
     "output_type": "display_data"
    }
   ],
   "source": [
    "x = [2, 9, 15]\n",
    "y = [1, 7, 16]\n",
    "\n",
    "plt.plot(x, y)\n",
    "plt.xlabel('tiempo')\n",
    "plt.ylabel('tamaño')\n",
    "plt.show()"
   ],
   "metadata": {
    "collapsed": false,
    "pycharm": {
     "name": "#%%\n"
    }
   }
  },
  {
   "cell_type": "code",
   "execution_count": null,
   "outputs": [],
   "source": [
    "for i in range(100):\n",
    "    arr_ran = np.random.randint(0, 5, size = 4)"
   ],
   "metadata": {
    "collapsed": false,
    "pycharm": {
     "name": "#%%\n"
    }
   }
  }
 ],
 "metadata": {
  "kernelspec": {
   "name": "python3",
   "language": "python",
   "display_name": "Python 3 (ipykernel)"
  },
  "language_info": {
   "codemirror_mode": {
    "name": "ipython",
    "version": 3
   },
   "file_extension": ".py",
   "mimetype": "text/x-python",
   "name": "python",
   "nbconvert_exporter": "python",
   "pygments_lexer": "ipython3",
   "version": "3.9.6"
  },
  "interpreter": {
   "hash": "72802fbfa1d036d8a62eb5b2c634dd95cb89159f04a47e1d6bcfa7e4c8209daa"
  }
 },
 "nbformat": 4,
 "nbformat_minor": 5
}