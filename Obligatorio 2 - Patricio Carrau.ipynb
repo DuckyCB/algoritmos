{
 "cells": [
  {
   "cell_type": "markdown",
   "id": "c328429a",
   "metadata": {},
   "source": [
    "# Obligatorio 2 - Algoritmos\n",
    "\n",
    "\n",
    "\n",
    "Nombre del estudiante: Patricio Carrau\n",
    "\n",
    "Debajo de cada pregunta o tarea incluya las celdas necesarias para desarrolar la respuesta. Puede usar una o varias\n",
    "celdas de código o mark down (https://www.datacamp.com/community/tutorials/markdown-in-jupyter-notebook)\n",
    "\n",
    "Para entregar, renombrar este notebook como \"Obligatorio 1 - Apellido Nombre\" \n"
   ]
  },
  {
   "cell_type": "markdown",
   "id": "517de5d8",
   "metadata": {},
   "source": [
    "## Ejercicio 1\n",
    "Ordenar estas funciones de acuerdo a su orden de crecimiento (justifique su respuesta):\n",
    "<ol>\n",
    "<li>$\\ln{\\ln{n^{2}}}$</li>\n",
    "<li>$\\sqrt{n}\\ln{n}$</li>\n",
    "<li>$n^{0.001}$</li>\n",
    "<li>$2^{{\\ln{n}}^{2}}$ | $2^{2\\ln{n}}$</li>\n",
    "<li>${(\\ln{n})!}$</li>\n",
    "<li>${n!}$</li>\n",
    "</ol>\n"
   ]
  },
  {
   "cell_type": "markdown",
   "id": "143b904c-dfbd-4118-ba11-38dbbe58d310",
   "metadata": {},
   "source": [
    "#### Justificación\n",
    "\n",
    "Tomamos los infinitos fundamentales:\n",
    "\n",
    "$x^{kx} \\gg x! \\gg a^x \\gg x^\\alpha \\gg (\\ln{x})^b$\n",
    "\n",
    "Donde:\n",
    "$k>0,a>1,\\alpha >0, b>0$ con $x\\rightarrow\\infty$\n",
    "\n",
    "Por lo que podemos separar las funciones en distintas categorías.\n",
    "\n",
    "-----\n",
    "\n",
    "Para las de menor escala, tenemos los $(\\ln{x})^b$, que desarrollando conseguimos:\n",
    "\n",
    "- $\\ln{\\ln{n^{2}}}=\\ln(2\\ln(n))=\\ln(\\ln(n))+\\ln(2)=\\ln(\\ln(n))+C=\\ln(\\ln(n))$\n",
    "\n",
    "- $\\sqrt{n}\\ln{n}=\\ln(n^{\\sqrt n})$  \n",
    "\n",
    "Tenemos entonces para comparar $\\ln(\\ln(n))$ con $\\ln(n^{\\sqrt n})$, lo que equivale a comparar $\\ln(n)$ con $n^{\\sqrt n}$, que por ordenes sabemos que $\\ln(n)<n^{\\sqrt n}$ cuando $n\\rightarrow\\infty$.\n",
    "\n",
    "Por lo que $\\ln(\\ln(n))\\ll \\ln(n^{\\sqrt n})$\n",
    "\n",
    "-----\n",
    "\n",
    "En el siguiente nivel de orden, tenemos $x^\\alpha$ con $\\alpha >0$.\n",
    "\n",
    "Para este caso solo contamos con:\n",
    "\n",
    "- $n^{0.001}$\n",
    "\n",
    "-----\n",
    "\n",
    "Para el orden $a^x$ tenemos:\n",
    "\n",
    "- $2^{{\\ln{n}}^{2}}$\n",
    "- $2^{2\\ln{n}} = 2^{{\\ln{n}}^{2}}$\n",
    "\n",
    "Por propiedades de logaritmos, por lo que estan al mismo nivel.\n",
    "\n",
    "-----\n",
    "\n",
    "Para las de mayor escala, $x!$ tenemos:\n",
    "\n",
    "- ${(\\ln{n})!}$\n",
    "- $n!$\n",
    "\n",
    "Donde comparando $\\ln(n)$ con $n$, inmediatamente podemos decir $n\\gg \\ln(n)$.\n",
    "\n",
    "Por lo que: $(\\ln{n})! \\ll n!$\n"
   ]
  },
  {
   "cell_type": "markdown",
   "id": "d398aef2",
   "metadata": {},
   "source": [
    "## Ejercicio 2\n",
    "Resolver ejercicio 3.1-1 CLRS"
   ]
  },
  {
   "cell_type": "markdown",
   "id": "4b05ee24-f508-4aad-994e-4c6850b6c383",
   "metadata": {},
   "source": [
    "Sabemos que $f(n)$ y $g(n)$ son funciones asimptoticamente no-negativas, lo cual quiere decir que son funciones no negativas para algun $n$ suficientemente largo. \n",
    "\n",
    "Por lo que podemos usar la definición de $\\Theta$, la cual nos dice que $f(n)=\\Theta (g(n))$ si existen $c_1$, $c_2$ y $n_0$ tales que $0\\leq c_1 g(n)\\leq f(n) \\leq c_2 g(n)$ $\\forall n\\geq n_0$ "
   ]
  },
  {
   "cell_type": "markdown",
   "id": "9ba16d5a-9bea-4a68-a7dd-91ec96597a32",
   "metadata": {},
   "source": [
    "De aqui, podemos crear la ecuación:\n",
    "\n",
    "$0 \\leq c_1 (f(n)+g(n))\\leq max(f(n), g(n)) \\leq c_2 (f(n)+g(n))$\n",
    "\n",
    "Podemos tomar $c_2=1$ porque al ser $f(n)$ y $g(n)$ positivas, siempre se cumple que $max(f(n), g(n))\\leq (f(n)+g(n))$.\n",
    "\n",
    "Por la misma razon que para $c_2$, podemos tomar un numero cualquiera para $c_1$ que sea menor o igual que $\\frac{1}{2}$. Tomamos $c_1=\\frac{1}{2}$ como ejemplo.\n",
    "\n",
    "$0 \\leq \\frac{1}{2} (f(n)+g(n))\\leq max(f(n), g(n)) \\leq 1 (f(n)+g(n))$\n",
    "\n",
    "Como la ecuación se mantiene, podemos entonces concluir que:\n",
    "\n",
    "$max(f(n), g(n))=\\Theta(f(n)+g(n))$"
   ]
  },
  {
   "cell_type": "markdown",
   "id": "376e62f7",
   "metadata": {},
   "source": [
    "## Ejercicio 3\n",
    "Resolver ejercicio 3.1-4 CLRS"
   ]
  },
  {
   "cell_type": "markdown",
   "id": "c85dfbcc-4eec-41b8-9c21-27860198a188",
   "metadata": {},
   "source": [
    "De la definición de $O$, podemos decir que $O(g(n))=f(n)$ si existen las constantes positivas $c$ y $n_0$ tales que $0\\leq f(n)\\leq cg(n)$ $\\forall n\\geq n_0$."
   ]
  },
  {
   "cell_type": "markdown",
   "id": "55087be3-8366-45f8-b3fc-dce528979f67",
   "metadata": {},
   "source": [
    "De donde obtenemos:\n",
    "\n",
    "$0\\leq 2^{n+1}\\leq c 2^n$\n",
    "\n",
    "Si $c=2$:\n",
    "\n",
    "$0\\leq 2^{n+1}\\leq 2 2^n$\n",
    "\n",
    "$0\\leq 2^{n+1}\\leq 2^{n+1}$\n",
    "\n",
    "Por lo que la ecuacion se mantiene. Asi que $2^{n+1}=O(2^n)$ es verdadero."
   ]
  },
  {
   "cell_type": "markdown",
   "id": "18b354a7-58df-4f40-926f-42bce1edf431",
   "metadata": {},
   "source": [
    "Para la segunda parte, tenemos:\n",
    "\n",
    "$0\\leq 2^{2n}\\leq c 2^n$\n",
    "\n",
    "$0\\leq 2^n.2^n\\leq c 2^n$\n",
    "\n",
    "Por lo que necesitamos $c\\geq 2^n$ para que se verifique la ecuación. Lo cual es imposible, asi que $2^{2n}=O(2^n)$ es falsa."
   ]
  }
 ],
 "metadata": {
  "kernelspec": {
   "display_name": "PyCharm (algoritmos)",
   "language": "python",
   "name": "pycharm-2c91d42c"
  },
  "language_info": {
   "codemirror_mode": {
    "name": "ipython",
    "version": 3
   },
   "file_extension": ".py",
   "mimetype": "text/x-python",
   "name": "python",
   "nbconvert_exporter": "python",
   "pygments_lexer": "ipython3",
   "version": "3.9.6"
  }
 },
 "nbformat": 4,
 "nbformat_minor": 5
}
