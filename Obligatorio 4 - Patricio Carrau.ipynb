{
 "cells": [
  {
   "cell_type": "markdown",
   "id": "c328429a",
   "metadata": {},
   "source": [
    "# Obligatorio 4 - Algoritmos\n",
    "\n",
    "Nombre del estudiante: Patricio Carrau\n",
    "\n",
    "Debajo de cada pregunta o tarea incluya las celdas necesarias para desarrolar la respuesta. Puede usar una o varias\n",
    "celdas de código o mark down (https://www.datacamp.com/community/tutorials/markdown-in-jupyter-notebook)\n",
    "\n",
    "Para entregar, renombrar este notebook como \"Obligatorio 4 - Apellido Nombre\" \n"
   ]
  },
  {
   "cell_type": "markdown",
   "id": "517de5d8",
   "metadata": {},
   "source": [
    "## Ejercicio 1\n",
    "Usted es el piloto de un avión que tiene que despegar desde el punto (0,0) y aterrizar al punto (D, 0). La altura máxima\n",
    " a la que se puede ir es H, y el avión no puede aterrizar y volver a despegar en el medio del trayecto. Para cada\n",
    " distancia y altura (asumimos las mismas son discretas), tenemos un mapa de viento"
   ]
  },
  {
   "cell_type": "code",
   "execution_count": 1,
   "id": "95669287",
   "metadata": {
    "pycharm": {
     "name": "#%%\n"
    }
   },
   "outputs": [
    {
     "data": {
      "image/png": "[encoded data removed]",
      "text/plain": [
       "<Figure size 576x360 with 2 Axes>"
      ]
     },
     "metadata": {},
     "output_type": "display_data"
    }
   ],
   "source": [
    "import numpy as np\n",
    "import seaborn as sns\n",
    "import matplotlib.pylab as plt\n",
    "\n",
    "plt.style.use(\"seaborn\")\n",
    "\n",
    "w = [[0, 3, -10, -2, -100, 3, 5, 7],\n",
    "     [0, 1, -20, -100, -1, 6, 3, 1],\n",
    "     [0, 2, -60, -4, 1, 5, 7, 3],\n",
    "     [0, 5, 2, -1, 7, 6, 8, 0],\n",
    "     [0, 0, 0, 0, 0, 0, 0, 0]]\n",
    "\n",
    "data = np.matrix(w)\n",
    "\n",
    "plt.figure(figsize=(8, 5))\n",
    "cmap = sns.diverging_palette(110, 10, l=50, center=\"light\", as_cmap=True)\n",
    "sns.color_palette(['green', 'red'])\n",
    "heat_map = sns.heatmap(data, cmap=cmap, center=0.00, vmin=-100.00, vmax=10.00, linewidth=1, annot=True, fmt='g')\n",
    "plt.axis('off')\n",
    "plt.show()"
   ]
  },
  {
   "cell_type": "markdown",
   "id": "0bb7ab1f",
   "metadata": {
    "pycharm": {
     "name": "#%% md\n"
    }
   },
   "source": [
    "En cada coordenada usted debe decidir si mantenerse en la misma altura (gastando 30 unidades de combustible), bajar de\n",
    "altura (gastando 20 unidades de combustible), o subir de altura (gastando 60 unidades de combustible). En cada\n",
    "coordenada además de las unidades de combustible debido a mantener, subir o bajar de altura uno tiene que sumar la\n",
    "cantidad de combustible indicada en el mapa. Los valores negativos corresponden a viento a favor lo que permite gastar\n",
    "menos combustible. Los valores positivos indican viento en contra e implican un gasto mayor de combustible en ese punto.\n",
    "Implementar un algoritmo eficiente que minimice el gasto en combustible del trayecto e imprima qué acción tomar en cada\n",
    "distancia, para un mapa de viento dado. Analizar el orden en tiempo de ejecución  y uso de memoria de su algoritmo.\n"
   ]
  },
  {
   "cell_type": "code",
   "execution_count": 6,
   "id": "d36f60c0",
   "metadata": {},
   "outputs": [
    {
     "data": {
      "text/plain": "<Figure size 576x360 with 2 Axes>",
      "image/png": "[encoded data removed]"
     },
     "metadata": {},
     "output_type": "display_data"
    },
    {
     "name": "stdout",
     "output_type": "stream",
     "text": [
      "[-2, ['mover a 1,1', 'mover a 2,2', 'mover a 3,3', 'mover a 4,4', 'mover a 5,3', 'mover a 6,2', 'mover a 7,1']]\n"
     ]
    }
   ],
   "source": [
    "import math\n",
    "import numpy as np\n",
    "import seaborn as sns\n",
    "import matplotlib.pylab as plt\n",
    "\n",
    "w = [[0, 3, -10, -2, -100, 3, 5, 7],\n",
    "     [0, 1, -20, -100, -1, 6, 3, 1],\n",
    "     [0, 2, -60, -4, 1, 5, 7, 3],\n",
    "     [0, 5, 2, -1, 7, 6, 8, 0],\n",
    "     [0, 0, 0, 0, 0, 0, 0, 0]]\n",
    "\n",
    "#############################################\n",
    "plt.style.use(\"seaborn\")\n",
    "def print_values(matrix):\n",
    "    matrix_copy = [[element[0] for element in columna] for columna in matrix]\n",
    "    data = np.matrix(matrix_copy)\n",
    "    plt.figure(figsize=(8, 5))\n",
    "    cmap = sns.diverging_palette(110, 10, l=50, center=\"light\", as_cmap=True)\n",
    "    sns.color_palette(['green', 'red'])\n",
    "    heat_map = sns.heatmap(data, cmap=cmap, center=0.00, linewidth=1, annot=True, fmt='g')\n",
    "    plt.axis('off')\n",
    "    plt.show()\n",
    "#############################################\n",
    "\n",
    "\n",
    "def get_previous(matrix, h, max_height, distance):\n",
    "    prev_max_height = abs(distance - 1 - max_height) - 1\n",
    "    prev_min_h = h + 1 if h < max_height - 1 else 3\n",
    "    if h == prev_max_height:\n",
    "        prev_max_h = h\n",
    "    elif h == prev_max_height + 1:\n",
    "        prev_max_h = h - 1\n",
    "    else:\n",
    "        prev_max_h = h - 2\n",
    "    prev_best = [np.inf, []]\n",
    "    fuel_best = 0\n",
    "    for height in range(prev_min_h, prev_max_h, -1): # 3\n",
    "        fuel = 0\n",
    "        if h > height:\n",
    "            fuel = 20\n",
    "        elif h == height:\n",
    "            fuel = 30\n",
    "        elif h < height:\n",
    "            fuel = 60\n",
    "        if matrix[height][distance - 1][0] + fuel < prev_best[0] + fuel_best:\n",
    "            prev_best = matrix[height][distance - 1]\n",
    "            fuel_best = fuel\n",
    "    return prev_best, fuel_best\n",
    "\n",
    "\n",
    "def mejor_ruta(w):\n",
    "    max_distance = len(w[0]) - 1\n",
    "    max_height = math.ceil(max_distance / 2)\n",
    "    matrix = [[[0, []] for i in range(len(w[0]))] for j in range(len(w))]\n",
    "    for distance in range(1, max_distance + 1): # n\n",
    "        actual_max_height = abs(distance - max_height) - 1\n",
    "        for height in range(int(max_height) - 1, actual_max_height, -1): # m\n",
    "            if distance == 1:\n",
    "                matrix[height][distance] = [w[height][distance], [[height, distance]]]\n",
    "            else:\n",
    "                prev_best, fuel = get_previous(matrix, height, max_height, distance)\n",
    "                new_consumption = prev_best[0] + fuel + w[height][distance]\n",
    "                new_route = prev_best[1].copy()\n",
    "                new_route.append([height, distance])\n",
    "                matrix[height][distance] = [new_consumption, new_route]\n",
    "    print_values(matrix)\n",
    "    # Invierto el eje de la altura\n",
    "    for pos in range(len(matrix[max_height - 1][max_distance][1])):\n",
    "        matrix[max_height - 1][max_distance][1][pos] =\\\n",
    "            'mover a ' + str(matrix[max_height - 1][max_distance][1][pos][1]) +\\\n",
    "            ',' + str(max_height - matrix[max_height - 1][max_distance][1][pos][0])\n",
    "    print(matrix[max_height - 1][max_distance])\n",
    "    return matrix[max_height - 1][max_distance]\n",
    "\n",
    "\n",
    "assert ([-2, ['mover a 1,1', 'mover a 2,2', 'mover a 3,3',\n",
    "              'mover a 4,4', 'mover a 5,3', 'mover a 6,2',\n",
    "              'mover a 7,1']] == mejor_ruta(w))\n"
   ]
  },
  {
   "cell_type": "markdown",
   "source": [
    "El orden de ejecucion del algoritmo es $O(nm)$ con $n$ la cantidad de filas y $m$ la cantidad de columnas.\n",
    "\n",
    "La memoria utilizada se da por la tabla complementaria $matrix$ que guarda la información del recorrido. Esta utiliza\n",
    "$2nm$ de memoria."
   ],
   "metadata": {
    "collapsed": false,
    "pycharm": {
     "name": "#%% md\n"
    }
   }
  },
  {
   "cell_type": "markdown",
   "id": "d398aef2",
   "metadata": {},
   "source": [
    "## Ejercicio 2\n",
    "\n",
    "El profesor Curly está planeando un viaje por carretera a través del país desde Boston a Seattle por la Interestatal 90,\n",
    "y necesita alquilar un automóvil. Su primera inclinación fue llamar a las distintas agencias de alquiler de autos para\n",
    "encontrar el mejor precio para alquilar un vehículo de Boston a Seattle, pero ha aprendido, para su consternación, que\n",
    "esta puede no ser una estrategia óptima. Debido a la gran cantidad de agencias de alquiler de automóviles y las diversas\n",
    "guerras de precios entre ellas, en realidad podría ser más barato alquilar un automóvil de Boston a Cleveland con Hertz,\n",
    "seguido de un segundo automóvil de Cleveland a Chicago con Avis, etc. que alquilar cualquier auto desde Boston a\n",
    "Seattle.\n",
    "\n",
    "El profesor Curly no se opone a detenerse en una ciudad importante a lo largo de la Interestatal 90 para cambiar los\n",
    "autos de alquiler; sin embargo, no desea dar marcha atrás debido a limitaciones de tiempo. (En otras palabras, un viaje\n",
    "de Boston a Chicago, de Chicago a Cleveland y de Cleveland a Seattle está fuera de discusión). El profesor Curly ha\n",
    "seleccionado n ciudades importantes a lo largo de la Interestatal 90 y las ha ordenado de este a oeste, donde se\n",
    "encuentra la ciudad 1 Boston y la ciudad n son Seattle. Ha construido una tabla $costo[i, j]$ que para todo $i<j$\n",
    "contiene el costo del automóvil de alquiler individual más barato de la ciudad i a la ciudad j. El profesor Curly quiere\n",
    " viajar lo más barato posible. Diseñe un algoritmo que resuelva este problema, argumente que su algoritmo es correcto y\n",
    " analice sus requisitos de tiempo y espacio de ejecución. Su algoritmo o algoritmos deben generar tanto el costo total\n",
    " del viaje como las distintas ciudades en las que se deben dejar y / o recoger los autos de alquiler.\n"
   ]
  },
  {
   "cell_type": "code",
   "execution_count": 17,
   "id": "c8939995",
   "metadata": {},
   "outputs": [
    {
     "data": {
      "text/plain": "<Figure size 576x360 with 2 Axes>",
      "image/png": "[encoded data removed]"
     },
     "metadata": {},
     "output_type": "display_data"
    }
   ],
   "source": [
    "import numpy as np\n",
    "\n",
    "\n",
    "#            boston   cleveland  chicago   seattle\n",
    "# boston       0        10        30         180\n",
    "# chicago      -         0        25         130\n",
    "# cleveland    -        -          0         70\n",
    "# seattle      -        -          -          0\n",
    "\n",
    "#############################################\n",
    "plt.style.use(\"seaborn\")\n",
    "def print_values(matrix):\n",
    "    matrix_copy = [[element[0] for element in columna] for columna in matrix]\n",
    "    data = np.matrix(matrix_copy)\n",
    "    plt.figure(figsize=(8, 5))\n",
    "    cmap = sns.diverging_palette(110, 10, l=50, center=\"light\", as_cmap=True)\n",
    "    sns.color_palette(['green', 'red'])\n",
    "    heat_map = sns.heatmap(data, cmap=cmap, center=0.00, linewidth=1, annot=True, fmt='g')\n",
    "    plt.axis('off')\n",
    "    plt.show()\n",
    "#############################################\n",
    "\n",
    "\n",
    "def mejor_ruta(costos, origen, destino):\n",
    "    mejores_costos = [[[0, []] for i in range(len(costos[0]))] for j in range(len(costos))]\n",
    "    menos_costo = []\n",
    "    for columna in range(origen + 1, destino + 1):  # n\n",
    "        for fila in range(columna):\n",
    "            if fila == 0:\n",
    "                menos_costo = [costos[fila][columna], [0, columna]]\n",
    "            else:\n",
    "                nuevo_costo = costos[fila][columna] + mejores_costos[fila - 1][columna - 1][0]\n",
    "                if nuevo_costo < menos_costo[0]:\n",
    "                    temp_ciudades = mejores_costos[fila - 1][columna - 1][1].copy()\n",
    "                    temp_ciudades.append(columna)\n",
    "                    menos_costo = [nuevo_costo, temp_ciudades]\n",
    "            mejores_costos[fila][columna] = menos_costo\n",
    "    print_values(mejores_costos)\n",
    "    return menos_costo[0], menos_costo[1]\n",
    "\n",
    "\n",
    "costos = [[0, 10, 30, 180],\n",
    "          [np.inf, 0, 25, 130],\n",
    "          [np.inf, np.inf, 0, 70],\n",
    "          [np.inf, np.inf, np.inf, 0]]\n",
    "\n",
    "assert mejor_ruta(costos, 0, 3) == (100, [0, 2, 3])"
   ]
  },
  {
   "cell_type": "markdown",
   "id": "376e62f7",
   "metadata": {},
   "source": [
    "## Ejercicio 3\n",
    "Dada una secuencia de números enteros, escribir un algoritmo que devuelva la sub secuencia más larga de números\n",
    "crecientes. Ejemplo: Si la secuencia es $1,20,3,7,40,5,2$, la respuesta es $1,3,7,40$.\n",
    "\n",
    "1. Implementar una versión recursiva del algoritmo\n",
    "2. Implementar una versión recursiva del algoritmo usando un caché (en una celda distinta usando la firma abajo)\n",
    "3. Implementar una versión iterativa del algoritmo con principios de programación dinámica (en una celda distinta usando\n",
    "la firma abajo).\n",
    "4. Dar una cota asintótica superior en función del tamaño de la secuencia de entrada.\n"
   ]
  },
  {
   "cell_type": "markdown",
   "id": "adb809f0",
   "metadata": {
    "pycharm": {
     "name": "#%% md\n"
    }
   },
   "source": [
    "#### 1 Recursivo"
   ]
  },
  {
   "cell_type": "code",
   "execution_count": 8,
   "id": "c148142b",
   "metadata": {},
   "outputs": [
    {
     "name": "stdout",
     "output_type": "stream",
     "text": [
      "[1, 3, 7, 40]\n"
     ]
    }
   ],
   "source": [
    "def lcs(a, b):\n",
    "    if len(a) == 0:\n",
    "        return []\n",
    "    elif len(b) == 0:\n",
    "        return []\n",
    "    elif a[0] == b[0]:\n",
    "        sub_lcs = lcs(a[1:], b[1:])\n",
    "        return [a[0]] + sub_lcs\n",
    "    else:\n",
    "        a_lcs = lcs(a, b[1:])\n",
    "        b_lcs = lcs(a[1:], b)\n",
    "        if len(a_lcs) > len(b_lcs):\n",
    "            return a_lcs\n",
    "        else:\n",
    "            return b_lcs\n",
    "\n",
    "\n",
    "def lgs(l):\n",
    "    l_sorted = l.copy()\n",
    "    l_sorted.sort()\n",
    "    res = lcs(l, l_sorted)\n",
    "    print(res)\n",
    "    return res\n",
    "\n",
    "array = [1, 20, 3, 7, 40, 5, 2]\n",
    "assert (lgs([1, 20, 3, 7, 40, 5, 2]) == [1, 3, 7, 40])"
   ]
  },
  {
   "cell_type": "markdown",
   "id": "fa35e5a5",
   "metadata": {},
   "source": [
    "#### 2 Recursivo con cache"
   ]
  },
  {
   "cell_type": "code",
   "execution_count": 7,
   "id": "84120942",
   "metadata": {
    "pycharm": {
     "name": "#%%\n"
    }
   },
   "outputs": [
    {
     "name": "stdout",
     "output_type": "stream",
     "text": [
      "[1, 3, 7, 40]\n"
     ]
    }
   ],
   "source": [
    "def hash_array(s):\n",
    "    new = ''\n",
    "    for x in s:\n",
    "        new += str(x)\n",
    "    return new\n",
    "\n",
    "\n",
    "cache = {}\n",
    "def lcs(a, b):\n",
    "    if (hash_array(a), hash_array(b)) in cache:\n",
    "        return cache[(hash_array(a), hash_array(b))]\n",
    "    if len(a) == 0:\n",
    "        ret = []\n",
    "    elif len(b) == 0:\n",
    "        ret = []\n",
    "    elif a[0] == b[0]:\n",
    "        sub_lcs = lcs(a[1:], b[1:])\n",
    "        ret = [a[0]] + sub_lcs\n",
    "    else:\n",
    "        a_lcs = lcs(a, b[1:])\n",
    "        b_lcs = lcs(a[1:], b)\n",
    "        if len(a_lcs) > len(b_lcs):\n",
    "            ret = a_lcs\n",
    "        else:\n",
    "            ret = b_lcs\n",
    "    cache[(hash_array(a), hash_array(b))] = ret\n",
    "    return ret\n",
    "\n",
    "\n",
    "def lgs(l):\n",
    "    l_sorted = l.copy()\n",
    "    l_sorted.sort()\n",
    "    res = lcs(l, l_sorted)\n",
    "    print(res)\n",
    "    return res\n",
    "\n",
    "array = [1, 20, 3, 7, 40, 5, 2]\n",
    "assert (lgs(array) == [1, 3, 7, 40])"
   ]
  },
  {
   "cell_type": "markdown",
   "id": "42c30e0a",
   "metadata": {},
   "source": [
    "#### 3 Iterativo programación dinamica"
   ]
  },
  {
   "cell_type": "code",
   "execution_count": 5,
   "id": "00320018",
   "metadata": {
    "pycharm": {
     "name": "#%%\n"
    }
   },
   "outputs": [
    {
     "name": "stdout",
     "output_type": "stream",
     "text": [
      "[1, 3, 7, 40]\n"
     ]
    }
   ],
   "source": [
    "def lgs(l):\n",
    "    lgs_arr = []\n",
    "    aux = []\n",
    "    last = 0\n",
    "    for actual in range(len(l)):\n",
    "        lgs_arr.append(1)\n",
    "        aux.append(None)\n",
    "        for previous in range(actual):\n",
    "            prev_size = lgs_arr[previous] + 1\n",
    "            if l[previous] < l[actual] and prev_size > lgs_arr[actual]:\n",
    "                lgs_arr[actual] = prev_size\n",
    "                aux[actual] = previous\n",
    "        if lgs_arr[actual] > lgs_arr[last]:\n",
    "            last = actual\n",
    "    substring = []\n",
    "    ultimo = last\n",
    "    while ultimo is not None:\n",
    "        substring.append(l[ultimo])\n",
    "        ultimo = (aux[ultimo])\n",
    "    substring.reverse()\n",
    "    print(substring)\n",
    "    return substring\n",
    "\n",
    "array = [1, 20, 3, 7, 40, 5, 2]\n",
    "assert (lgs(array) == [1, 3, 7, 40])"
   ]
  },
  {
   "cell_type": "markdown",
   "source": [
    "El orden de ejecucion del algoritmo es $O(n^2)$"
   ],
   "metadata": {
    "collapsed": false,
    "pycharm": {
     "name": "#%% md\n"
    }
   }
  },
  {
   "cell_type": "markdown",
   "id": "3443fc56",
   "metadata": {},
   "source": [
    "## Ejercicio 4\n",
    "Carlitos está visitando la fábrica de chocolates de Willy Wonka. Al final de la visita, le dan una caja en el cual podrá\n",
    " colocar hasta N kilogramos de tabletas de chocolates.  Carlitos durante su visita probó todas las distintas variedades\n",
    " de chocolates y les asignó una calificación a cada una de ellas (donde una calificación más alta corresponde a un\n",
    " chocolate más gustoso).\n",
    "\n",
    "La fábrica cuenta con un stock ilimitado de tabletas. El objetivo de Carlitos es de llevarse chocolates de tal forma de\n",
    "maximizar la calificación total (es decir, las suma de los productos entre la calificación y la cantidad). Las tabletas\n",
    "no se pueden dividir.\n",
    "\n",
    "\n",
    "Suponga que N=15 kg y la fábrica cuenta con el siguiente stock de tabletas: \n",
    "\n",
    "| Tableta | Peso de una tableta (kg) | Calificación |\n",
    "| ---     | ---                      | ---          |\n",
    "|TabletaPlus | 12 | 4 \n",
    "|     ChockRick | 1 | 2 |\n",
    "|     DulceChoc | 2 | 2 |\n",
    "|     DeliChoc | 1 | 1 |\n",
    "|     YumTableta | 4 | 10 |\n",
    "\n",
    "1. Indique cuantas y cuales tabletas  deberá cargar Carlitos en su caja. \n",
    "2. Escriba un algoritmo que devuelva cuales y cuantas tabletas debe elegir Carlitos, dada una tabla como en la parte 1,\n",
    "pero con pesos y calificaciones arbitrarias. Argumentar la correctitud del algoritmo de acuerdo a los estándares\n",
    "usuales del curso.\n",
    "3. Para su algoritmo dar la cota asintótica en términos de tiempo y espacio en memoria.\n"
   ]
  },
  {
   "cell_type": "markdown",
   "source": [
    "##### Respuestas"
   ],
   "metadata": {
    "collapsed": false,
    "pycharm": {
     "name": "#%% md\n"
    }
   }
  },
  {
   "cell_type": "markdown",
   "source": [
    "Carlitos deberá cargar 3 ChockRick y 3 YumTableta para optimizar el espacio utilizado."
   ],
   "metadata": {
    "collapsed": false,
    "pycharm": {
     "name": "#%% md\n"
    }
   }
  },
  {
   "cell_type": "code",
   "execution_count": 35,
   "id": "a4dd0ad2",
   "metadata": {},
   "outputs": [
    {
     "data": {
      "text/plain": "<Figure size 576x360 with 2 Axes>",
      "image/png": "[encoded data removed]"
     },
     "metadata": {},
     "output_type": "display_data"
    },
    {
     "data": {
      "text/plain": "<Figure size 576x360 with 2 Axes>",
      "image/png": "[encoded data removed]"
     },
     "metadata": {},
     "output_type": "display_data"
    },
    {
     "name": "stdout",
     "output_type": "stream",
     "text": [
      "36 [0, 3, 0, 0, 3]\n"
     ]
    }
   ],
   "source": [
    "import numpy as np\n",
    "import seaborn as sns\n",
    "import matplotlib.pylab as plt\n",
    "\n",
    "#############################################\n",
    "# Mostrar tablas\n",
    "plt.style.use(\"seaborn\")\n",
    "def print_values(matrix, pos, title):\n",
    "    matrix_copy = [[element[pos] for element in columna] for columna in matrix]\n",
    "    data = np.matrix(matrix_copy)\n",
    "    plt.figure(figsize=(8, 5))\n",
    "    cmap = sns.diverging_palette(110, 10, l=50, center=\"light\", as_cmap=True)\n",
    "    sns.color_palette(['green', 'red'])\n",
    "    heat_map = sns.heatmap(data, cmap=cmap, center=0.00, linewidth=1, annot=True, fmt='g')\n",
    "    plt.axis('off')\n",
    "    plt.title(title)\n",
    "    plt.show()\n",
    "#############################################\n",
    "\n",
    "def seleccionar(max_space, weights, scores):\n",
    "    qty = len(scores)\n",
    "    matrix = [[[0, 0] for x in range(max_space + 1)] for x in range(qty + 1)]\n",
    "    for chocolate in range(qty):\n",
    "        for space in range(1, max_space + 1):\n",
    "            new_element = [0, 0]\n",
    "            if weights[chocolate] > space:\n",
    "                new_element = [matrix[chocolate][space][0], 0]\n",
    "            elif weights[chocolate] < space:\n",
    "                new_score = scores[chocolate] + matrix[chocolate+1][space - weights[chocolate]][0]\n",
    "                if new_score > matrix[chocolate][space][0]:\n",
    "                    new_element = [new_score, 1]\n",
    "                else:\n",
    "                    new_element = [matrix[chocolate][space][0], 0]\n",
    "            else:\n",
    "                if scores[chocolate] >= matrix[chocolate][space][0]:\n",
    "                    new_element = [scores[chocolate], 1]\n",
    "                else:\n",
    "                    new_element = [matrix[chocolate][space][0], 0]\n",
    "            matrix[chocolate+1][space] = new_element\n",
    "\n",
    "    # Solo son para mostrar las matrices, no necesitan estar en el codigo\n",
    "    print_values(matrix, 0, 'Tabla valores')\n",
    "    print_values(matrix, 1, 'Tabla dec')\n",
    "\n",
    "    final_score = matrix[qty][max_space][0]\n",
    "\n",
    "    chocolates_qty = [0 for x in range(len(weights))]\n",
    "    chocolate = len(matrix) - 1\n",
    "    while max_space > 0:\n",
    "        if matrix[chocolate][max_space][1] == 1:\n",
    "            max_space -= weights[chocolate - 1]\n",
    "            chocolates_qty[chocolate - 1] += 1\n",
    "        elif matrix[chocolate][max_space][1] == 0:\n",
    "            chocolate -= 1\n",
    "\n",
    "    print(final_score, chocolates_qty)\n",
    "    return final_score, chocolates_qty\n",
    "\n",
    "W = 15\n",
    "wt = [12, 1, 2, 1, 4]\n",
    "val = [4, 2, 2, 1, 10]\n",
    "assert (seleccionar(W, wt, val) == (36, [0, 3, 0, 0, 3]))"
   ]
  },
  {
   "cell_type": "markdown",
   "id": "f9a2a813",
   "metadata": {
    "pycharm": {
     "name": "#%% md\n"
    }
   },
   "source": [
    "##### Respuesta\n",
    "\n",
    "Asumo que el peso está asociado directamente al espacio utilizado.\n",
    "\n",
    "- *Inicialización:* El peso utilizado y la calificación obtenida es 0.\n",
    "\n",
    "- *Mantenimiento:* Se busca un new_element donde:\n",
    "    - Si el peso del chocolate es mayor que el espacio disponible, se guarda el chocolate en la fila siguiente de\n",
    "    $matrix$ y se asigna como 0.\n",
    "    - Si el peso del chocolate es menor que el espacio disponible, se calcula nueva clasificación.\n",
    "        - Si la nueva clasificacion es mayor que la clasificacion de la posicion, se guarda la nueva clasificacion en\n",
    "        $matrix$ y se le asigna 1.\n",
    "        - Si la nueva clasificacion es menor que la clasificacion de la posicion, se guarda la clasificacion de la\n",
    "        posicion en $matrix$ y se le asigna 0.\n",
    "- *Finalización:* Se toma el como clasificación final el último chocolate para el último puntaje, ya que es el elemento\n",
    "    donde se acumularon todas las demas combinaciones. Por lo que buscamos ahora obtener las cantidades de cada uno de\n",
    "    los chocolates necesarios para llegar a este valor, esto es tomando el indice $1$ de cada elemento en $matrix$ y\n",
    "    recorremos la tabla de atrás hacia adelante hasta vaciar el espacio disponible:\n",
    "    - Si se le asignó un 1, se utiliza el chocolate guardandolo en un array de chocolates y se resta su peso del espacio\n",
    "        disponible.\n",
    "    - Si se le asignó un 0, no se utiliza el chocolate y se sigue al siguiente elemento.\n"
   ]
  },
  {
   "cell_type": "markdown",
   "source": [
    "El orden de ejecucion del algoritmo es $O((m+1)n)$ con $n$ la cantidad de chocolates diferentes y $m$ el espacio\n",
    "disponible. En el peor de los casos, donde $n=m$, tendriamos $O(n^2)$.\n",
    "\n",
    "La memoria utilizada se da por la tabla complementaria $matrix$ que guarda la información del recorrido. Esta utiliza\n",
    "$2nm$ de memoria.\n",
    "\n",
    "\n"
   ],
   "metadata": {
    "collapsed": false
   }
  }
 ],
 "metadata": {
  "kernelspec": {
   "name": "pycharm-f7497502",
   "language": "python",
   "display_name": "PyCharm (algoritmos)"
  },
  "language_info": {
   "codemirror_mode": {
    "name": "ipython",
    "version": 3
   },
   "file_extension": ".py",
   "mimetype": "text/x-python",
   "name": "python",
   "nbconvert_exporter": "python",
   "pygments_lexer": "ipython3",
   "version": "3.9.7"
  }
 },
 "nbformat": 4,
 "nbformat_minor": 5
}