{
 "cells": [
  {
   "cell_type": "markdown",
   "id": "c328429a",
   "metadata": {},
   "source": [
    "# Obligatorio 4 - Algoritmos\n",
    "\n",
    "Nombre del estudiante: Patricio Carrau\n",
    "\n",
    "Debajo de cada pregunta o tarea incluya las celdas necesarias para desarrolar la respuesta. Puede usar una o varias celdas de código o mark down (https://www.datacamp.com/community/tutorials/markdown-in-jupyter-notebook)\n",
    "\n",
    "Para entregar, renombrar este notebook como \"Obligatorio 4 - Apellido Nombre\" \n"
   ]
  },
  {
   "cell_type": "markdown",
   "id": "517de5d8",
   "metadata": {},
   "source": [
    "## Ejercicio 1\n",
    "Usted es el piloto de un avión que tiene que despegar desde el punto (0,0) y aterrizar al punto (D, 0). La altura máxima a la que se puede ir es H, y el avión no puede aterrizar y volver a despegar en el medio del trayecto. Para cada distancia y altura (asumimos las mismas son discretas), tenemos un mapa de viento"
   ]
  },
  {
   "cell_type": "code",
   "execution_count": 1,
   "id": "95669287",
   "metadata": {
    "pycharm": {
     "name": "#%%\n"
    }
   },
   "outputs": [
    {
     "data": {
      "image/png": "[encoded data removed]",
      "text/plain": [
       "<Figure size 576x360 with 2 Axes>"
      ]
     },
     "metadata": {},
     "output_type": "display_data"
    }
   ],
   "source": [
    "import numpy as np\n",
    "import seaborn as sns\n",
    "import matplotlib.pylab as plt\n",
    "\n",
    "plt.style.use(\"seaborn\")\n",
    "\n",
    "w = [[0, 3, -10, -2, -100, 3, 5, 7],\n",
    "     [0, 1, -20, -100, -1, 6, 3, 1],\n",
    "     [0, 2, -60, -4, 1, 5, 7, 3],\n",
    "     [0, 5, 2, -1, 7, 6, 8, 0],\n",
    "     [0, 0, 0, 0, 0, 0, 0, 0]]\n",
    "\n",
    "data = np.matrix(w)\n",
    "\n",
    "plt.figure(figsize=(8, 5))\n",
    "cmap = sns.diverging_palette(110, 10, l=50, center=\"light\", as_cmap=True)\n",
    "sns.color_palette(['green', 'red'])\n",
    "heat_map = sns.heatmap(data, cmap=cmap, center=0.00, vmin=-100.00, vmax=10.00, linewidth=1, annot=True, fmt='g')\n",
    "plt.axis('off')\n",
    "plt.show()"
   ]
  },
  {
   "cell_type": "markdown",
   "id": "0bb7ab1f",
   "metadata": {
    "pycharm": {
     "name": "#%% md\n"
    }
   },
   "source": [
    "En cada coordenada usted debe decidir si mantenerse en la misma altura (gastando 30 unidades de combustible), bajar de altura (gastando 20 unidades de combustible), o subir de altura (gastando 60 unidades de combustible). En cada coordenada además de las unidades de combustible debido a mantener, subir o bajar de altura uno tiene que sumar la cantidad de combustible indicada en el mapa. Los valores negativos corresponden a viento a favor lo que permite gastar menos combustible. Los valores positivos indican viento en contra e implican un gasto mayor de combustible en ese punto. Implementar un algoritmo eficiente que minimice el gasto en combustible del trayecto e imprima qué acción tomar en cada distancia, para un mapa de viento dado. Analizar el orden en tiempo de ejecución  y uso de memoria de su algoritmo.\n"
   ]
  },
  {
   "cell_type": "code",
   "execution_count": 98,
   "id": "d36f60c0",
   "metadata": {},
   "outputs": [
    {
     "data": {
      "image/png": "[encoded data removed]",
      "text/plain": [
       "<Figure size 576x360 with 2 Axes>"
      ]
     },
     "metadata": {},
     "output_type": "display_data"
    },
    {
     "name": "stdout",
     "output_type": "stream",
     "text": [
      "[-2, ['mover a 1,1', 'mover a 2,2', 'mover a 3,3', 'mover a 4,4', 'mover a 5,3', 'mover a 6,2', 'mover a 7,1']]\n"
     ]
    }
   ],
   "source": [
    "import math\n",
    "import numpy as np\n",
    "import seaborn as sns\n",
    "import matplotlib.pylab as plt\n",
    "\n",
    "w = [[0, 3, -10, -2, -100, 3, 5, 7],\n",
    "     [0, 1, -20, -100, -1, 6, 3, 1],\n",
    "     [0, 2, -60, -4, 1, 5, 7, 3],\n",
    "     [0, 5, 2, -1, 7, 6, 8, 0],\n",
    "     [0, 0, 0, 0, 0, 0, 0, 0]]\n",
    "\n",
    "#############################################\n",
    "plt.style.use(\"seaborn\")\n",
    "\n",
    "\n",
    "def print_values(w_acc):\n",
    "    w_acc_copy = [[element[0] for element in columna] for columna in w_acc]\n",
    "    data = np.matrix(w_acc_copy)\n",
    "    plt.figure(figsize=(8, 5))\n",
    "    cmap = sns.diverging_palette(110, 10, l=50, center=\"light\", as_cmap=True)\n",
    "    sns.color_palette(['green', 'red'])\n",
    "    heat_map = sns.heatmap(data, cmap=cmap, center=0.00, linewidth=1, annot=True, fmt='g')\n",
    "    plt.axis('off')\n",
    "    plt.show()\n",
    "\n",
    "\n",
    "#############################################\n",
    "\n",
    "\n",
    "def get_previous(w_acc, h, max_height, distance):\n",
    "    prev_max_height = abs(distance - 1 - max_height) - 1\n",
    "    prev_min_h = h + 1 if h < max_height - 1 else 3\n",
    "    if h == prev_max_height:\n",
    "        prev_max_h = h\n",
    "    elif h == prev_max_height + 1:\n",
    "        prev_max_h = h - 1\n",
    "    else:\n",
    "        prev_max_h = h - 2\n",
    "    prev_best = [np.inf, []]\n",
    "    fuel_best = 0\n",
    "    for height in range(prev_min_h, prev_max_h, -1):\n",
    "        fuel = 0\n",
    "        if h > height:\n",
    "            fuel = 20\n",
    "        elif h == height:\n",
    "            fuel = 30\n",
    "        elif h < height:\n",
    "            fuel = 60\n",
    "        if w_acc[height][distance - 1][0] + fuel < prev_best[0] + fuel_best:\n",
    "            prev_best = w_acc[height][distance - 1]\n",
    "            fuel_best = fuel\n",
    "    return prev_best, fuel_best\n",
    "\n",
    "\n",
    "def mejor_ruta(w):\n",
    "    max_distance = len(w[0]) - 1\n",
    "    max_height = math.ceil(max_distance / 2)\n",
    "    w_acc = [[[0, []] for i in range(len(w[0]))] for j in range(len(w))]\n",
    "    for distance in range(1, max_distance + 1):\n",
    "        actual_max_height = abs(distance - max_height) - 1\n",
    "        for height in range(int(max_height) - 1, actual_max_height, -1):\n",
    "            if distance == 1:\n",
    "                w_acc[height][distance] = [w[height][distance], [[height, distance]]]\n",
    "            else:\n",
    "                prev_best, fuel = get_previous(w_acc, height, max_height, distance)\n",
    "                new_consumption = prev_best[0] + fuel + w[height][distance]\n",
    "                new_route = prev_best[1].copy()\n",
    "                new_route.append([height, distance])\n",
    "                w_acc[height][distance] = [new_consumption, new_route]\n",
    "    print_values(w_acc)\n",
    "    # Invierto el eje de la altura\n",
    "    for pos in range(len(w_acc[max_height - 1][max_distance][1])):\n",
    "        w_acc[max_height - 1][max_distance][1][pos] =\\\n",
    "            'mover a ' + str(w_acc[max_height - 1][max_distance][1][pos][1]) +\\\n",
    "            ',' + str(max_height - w_acc[max_height - 1][max_distance][1][pos][0])\n",
    "    print(w_acc[max_height - 1][max_distance])\n",
    "    return w_acc[max_height - 1][max_distance]\n",
    "\n",
    "\n",
    "assert ([-2, ['mover a 1,1', 'mover a 2,2', 'mover a 3,3',\n",
    "              'mover a 4,4', 'mover a 5,3', 'mover a 6,2',\n",
    "              'mover a 7,1']] == mejor_ruta(w))\n",
    "\n"
   ]
  },
  {
   "cell_type": "markdown",
   "id": "d398aef2",
   "metadata": {},
   "source": [
    "## Ejercicio 2\n",
    "\n",
    "El profesor Curly está planeando un viaje por carretera a través del país desde Boston a Seattle por la Interestatal 90, y necesita alquilar un automóvil. Su primera inclinación fue llamar a las distintas agencias de alquiler de autos para encontrar el mejor precio para alquilar un vehículo de Boston a Seattle, pero ha aprendido, para su consternación, que esta puede no ser una estrategia óptima. Debido a la gran cantidad de agencias de alquiler de automóviles y las diversas guerras de precios entre ellas, en realidad podría ser más barato alquilar un automóvil de Boston a Cleveland con Hertz, seguido de un segundo automóvil de Cleveland a Chicago con Avis, etc. que alquilar cualquier auto desde Boston a Seattle.\n",
    "\n",
    "El profesor Curly no se opone a detenerse en una ciudad importante a lo largo de la Interestatal 90 para cambiar los autos de alquiler; sin embargo, no desea dar marcha atrás debido a limitaciones de tiempo. (En otras palabras, un viaje de Boston a Chicago, de Chicago a Cleveland y de Cleveland a Seattle está fuera de discusión). El profesor Curly ha seleccionado n ciudades importantes a lo largo de la Interestatal 90 y las ha ordenado de este a oeste, donde se encuentra la ciudad 1 Boston y la ciudad n son Seattle. Ha construido una tabla $costo[i, j]$ que para todo $i<j$ contiene el costo del automóvil de alquiler individual más barato de la ciudad i a la ciudad j. El profesor Curly quiere viajar lo más barato posible. Diseñe un algoritmo que resuelva este problema, argumente que su algoritmo es correcto y analice sus requisitos de tiempo y espacio de ejecución. Su algoritmo o algoritmos deben generar tanto el costo total del viaje como las distintas ciudades en las que se deben dejar y / o recoger los autos de alquiler.\n",
    "\n",
    "##### Cambie el orden de las cuidades en la tabla porque esta mal"
   ]
  },
  {
   "cell_type": "code",
   "execution_count": 9,
   "id": "c8939995",
   "metadata": {},
   "outputs": [],
   "source": [
    "import numpy as np\n",
    "\n",
    "\n",
    "#            boston   cleveland  chicago   seattle\n",
    "# boston       0        10        30         180\n",
    "# chicago      -         0        25         130\n",
    "# cleveland    -        -          0         70\n",
    "# seattle      -        -          -          0\n",
    "\n",
    "\n",
    "def mejor_ruta(costos, origen, destino):\n",
    "    mejores_costos = [[0 for i in range(len(costos[0]))] for j in range(len(costos))]\n",
    "    menos_costo = []\n",
    "    for columna in range(origen + 1, destino + 1):  # n\n",
    "        for fila in range(columna):\n",
    "            if fila == 0:\n",
    "                menos_costo = [costos[fila][columna], [0, columna]]\n",
    "            else:\n",
    "                nuevo_costo = costos[fila][columna] + mejores_costos[fila - 1][columna - 1][0]\n",
    "                if nuevo_costo < menos_costo[0]:\n",
    "                    temp_ciudades = mejores_costos[fila - 1][columna - 1][1].copy()\n",
    "                    temp_ciudades.append(columna)\n",
    "                    menos_costo = [nuevo_costo, temp_ciudades]\n",
    "            mejores_costos[fila][columna] = menos_costo\n",
    "    return menos_costo[0], menos_costo[1]\n",
    "\n",
    "\n",
    "costos = [[0, 10, 30, 180],\n",
    "          [np.inf, 0, 25, 130],\n",
    "          [np.inf, np.inf, 0, 70],\n",
    "          [np.inf, np.inf, np.inf, 0]]\n",
    "\n",
    "assert mejor_ruta(costos, 0, 3) == (100, [0, 2, 3])\n",
    "# mejor_ruta(costos, 0, 3)"
   ]
  },
  {
   "cell_type": "markdown",
   "id": "376e62f7",
   "metadata": {},
   "source": [
    "## Ejercicio 3\n",
    "Dada una secuencia de números enteros, escribir un algoritmo que devuelva la sub secuencia más larga de números crecientes. Ejemplo: Si la secuencia es $1,20,3,7,40,5,2$, la respuesta es $1,3,7,40$.  \n",
    "\n",
    "1. Implementar una versión recursiva del algoritmo\n",
    "2. Implementar una versión recursiva del algoritmo usando un cache (en una celda distinta usando la firma abajo)\n",
    "3. Implementar una versión iterativa del algoritmo con principios de programación dinámica (en una celda distinta usando la firma abajo). \n",
    "4. Dar una cota asintótica superior en función de el tamaño de la secuencia de entrada. \n"
   ]
  },
  {
   "cell_type": "markdown",
   "id": "adb809f0",
   "metadata": {
    "pycharm": {
     "name": "#%% md\n"
    }
   },
   "source": [
    "#### 1 Recursivo"
   ]
  },
  {
   "cell_type": "code",
   "execution_count": 9,
   "id": "c148142b",
   "metadata": {},
   "outputs": [
    {
     "name": "stdout",
     "output_type": "stream",
     "text": [
      "[1, 3, 7, 40]\n"
     ]
    }
   ],
   "source": [
    "def lcs(a, b):\n",
    "    if len(a) == 0:\n",
    "        return []\n",
    "    elif len(b) == 0:\n",
    "        return []\n",
    "    elif a[0] == b[0]:\n",
    "        sub_lcs = lcs(a[1:], b[1:])\n",
    "        return [a[0]] + sub_lcs\n",
    "    else:\n",
    "        a_lcs = lcs(a, b[1:])\n",
    "        b_lcs = lcs(a[1:], b)\n",
    "        if len(a_lcs) > len(b_lcs):\n",
    "            return a_lcs\n",
    "        else:\n",
    "            return b_lcs\n",
    "\n",
    "\n",
    "array = [1, 20, 3, 7, 40, 5, 2]\n",
    "\n",
    "\n",
    "def lgs(l):\n",
    "    l_sorted = l.copy()\n",
    "    l_sorted.sort()\n",
    "    return lcs(l, l_sorted)\n",
    "\n",
    "\n",
    "print(lgs(array))\n",
    "assert (lgs([1, 20, 3, 7, 40, 5, 2]) == [1, 3, 7, 40])"
   ]
  },
  {
   "cell_type": "markdown",
   "id": "fa35e5a5",
   "metadata": {},
   "source": [
    "#### 2 Recursivo con cache"
   ]
  },
  {
   "cell_type": "code",
   "execution_count": 17,
   "id": "84120942",
   "metadata": {
    "pycharm": {
     "name": "#%%\n"
    }
   },
   "outputs": [
    {
     "name": "stdout",
     "output_type": "stream",
     "text": [
      "[1, 3, 7, 40]\n"
     ]
    }
   ],
   "source": [
    "def hash_array(s):\n",
    "    new = ''\n",
    "    for x in s:\n",
    "        new += str(x)\n",
    "    return new\n",
    "\n",
    "\n",
    "cache = {}\n",
    "\n",
    "\n",
    "def lcs(a, b):\n",
    "    if (hash_array(a), hash_array(b)) in cache:\n",
    "        return cache[(hash_array(a), hash_array(b))]\n",
    "    if len(a) == 0:\n",
    "        ret = []\n",
    "    elif len(b) == 0:\n",
    "        ret = []\n",
    "    elif a[0] == b[0]:\n",
    "        sub_lcs = lcs(a[1:], b[1:])\n",
    "        ret = [a[0]] + sub_lcs\n",
    "    else:\n",
    "        a_lcs = lcs(a, b[1:])\n",
    "        b_lcs = lcs(a[1:], b)\n",
    "        if len(a_lcs) > len(b_lcs):\n",
    "            ret = a_lcs\n",
    "        else:\n",
    "            ret = b_lcs\n",
    "    cache[(hash_array(a), hash_array(b))] = ret\n",
    "    return ret\n",
    "\n",
    "\n",
    "array = [1, 20, 3, 7, 40, 5, 2]\n",
    "\n",
    "\n",
    "def lgs(l):\n",
    "    l_sorted = l.copy()\n",
    "    l_sorted.sort()\n",
    "    return lcs(l, l_sorted)\n",
    "\n",
    "\n",
    "print(lgs(array))\n",
    "\n",
    "assert (lgs([1, 20, 3, 7, 40, 5, 2]) == [1, 3, 7, 40])"
   ]
  },
  {
   "cell_type": "markdown",
   "id": "42c30e0a",
   "metadata": {},
   "source": [
    "#### 3 iterativo programación dinamica"
   ]
  },
  {
   "cell_type": "code",
   "execution_count": null,
   "id": "00320018",
   "metadata": {
    "pycharm": {
     "name": "#%%\n"
    }
   },
   "outputs": [],
   "source": [
    "def lgs(l):\n",
    "    return []\n",
    "\n",
    "\n",
    "assert (lgs([1, 20, 3, 7, 40, 5, 2]) == [1, 3, 7, 40])"
   ]
  },
  {
   "cell_type": "markdown",
   "id": "3443fc56",
   "metadata": {},
   "source": [
    "## Ejercicio 4\n",
    "Carlitos está visitando la fábrica de chocolates de Willy Wonka. Al final de la visita, le dan una caja en el cual podrá colocar hasta N kilogramos de tabletas de chocolates.  Carlitos durante su visita probó todas las distintas variedades de chocolates y les asignó una calificación a cada una de ellas (donde una calificación más alta corresponde a un chocolate más gustoso).\n",
    "\n",
    "La fábrica cuenta con un stock ilimitado de tabletas. El objetivo de Carlitos es de llevarse chocolates de tal forma de maximizar la calificación total (es decir, las suma de los productos entre la calificación y la cantidad). Las tabletas no se pueden dividir.\n",
    "\n",
    "\n",
    "Suponga que N=15 kg y la fábrica cuenta con el siguiente stock de tabletas: \n",
    "\n",
    "| Tableta | Peso de una tableta (kg) | Calificación |\n",
    "| ---     | ---                      | ---          |\n",
    "|TabletaPlus | 12 | 4 \n",
    "|     ChockRick | 1 | 2 |\n",
    "|     DulceChoc | 2 | 2 |\n",
    "|     DeliChoc | 1 | 1 |\n",
    "|     YumTableta | 4 | 10 |\n",
    "\n",
    "1. Indique cuantas y cuales tabletas  deberá cargar Carlitos en su caja. \n",
    "2. Escriba un algoritmo que devuelva cuales y cuantas tabletas debe elegir Carlitos, dada una tabla como en la parte 1, pero con pesos y calificaciones arbitrarias. Argumentar la correctitud del algoritmo de acuerdo a los estándares usuales del curso.\n",
    "3. Para su algoritmo dar la cota asintótica en términos de tiempo y espacio en memoria.\n",
    "\n"
   ]
  },
  {
   "cell_type": "code",
   "execution_count": null,
   "id": "a4dd0ad2",
   "metadata": {
    "pycharm": {
     "is_executing": true
    }
   },
   "outputs": [],
   "source": [
    "import numpy as np\n",
    "import seaborn as sns\n",
    "import matplotlib.pylab as plt\n",
    "\n",
    "#############################################\n",
    "plt.style.use(\"seaborn\")\n",
    "def print_values(w_acc, pos, title):\n",
    "    w_acc_copy = [[element[pos] for element in columna] for columna in w_acc]\n",
    "    data = np.matrix(w_acc_copy)\n",
    "    plt.figure(figsize=(8, 5))\n",
    "    cmap = sns.diverging_palette(110, 10, l=50, center=\"light\", as_cmap=True)\n",
    "    sns.color_palette(['green', 'red'])\n",
    "    heat_map = sns.heatmap(data, cmap=cmap, center=0.00, linewidth=1, annot=True, fmt='g')\n",
    "    plt.axis('off')\n",
    "    plt.title(title)\n",
    "    plt.show()\n",
    "\n",
    "def elementos(matrix, weight, val, space):\n",
    "    resultado = [0 for x in range(len(weight))]\n",
    "    fila = len(matrix) - 1\n",
    "    y = space\n",
    "    while space > 0:\n",
    "        if matrix[fila][y][0] == 1:\n",
    "            space -= weight[fila - 1]\n",
    "            y -= weight[fila - 1]\n",
    "            resultado[fila - 1] += 1\n",
    "        elif matrix[fila][y][0] == 2:\n",
    "            fila -= 1\n",
    "    return resultado\n",
    "\n",
    "\n",
    "def seleccionar(space, weights, scores):\n",
    "    qty = len(scores)\n",
    "    matrix = [[[0, 0] for x in range(space + 1)] for x in range(qty + 1)]\n",
    "    tablaVal = [[0 for x in range(space + 1)] for x in range(qty + 1)]\n",
    "    tablaDec = [[0 for x in range(space + 1)] for x in range(qty + 1)]\n",
    "    for chocolate in range(qty):\n",
    "        print('Chocolate: ', chocolate)\n",
    "        for max_space in range(1, space + 1):\n",
    "            print('  Space: ', max_space)\n",
    "            print('    Weight chocolate: ', weights[chocolate])\n",
    "            if weights[chocolate] > max_space:\n",
    "                matrix[chocolate+1][max_space] = [matrix[chocolate][max_space][0], 2]\n",
    "            elif weights[chocolate] < max_space:\n",
    "                valor = scores[chocolate] + matrix[chocolate+1][max_space - weights[chocolate]][0]\n",
    "                print('    Score: ', valor)\n",
    "                if valor > matrix[chocolate][max_space][0]:\n",
    "                    matrix[chocolate+1][max_space] = [valor, 1]\n",
    "                else:\n",
    "                    matrix[chocolate+1][max_space] = [matrix[chocolate][max_space][0], 2]\n",
    "            else:\n",
    "                if scores[chocolate] >= matrix[chocolate][max_space][0]:\n",
    "                    matrix[chocolate+1][max_space] = [scores[chocolate], 1]\n",
    "                else:\n",
    "                    matrix[chocolate+1][max_space] = [matrix[chocolate][max_space][0], 2]\n",
    "    print_values(matrix, 0, 'Tabla valores')\n",
    "    print_values(matrix, 1, 'Tabla dec')\n",
    "    total = tablaVal[qty][space]\n",
    "\n",
    "    res = elementos(tablaDec, weights, scores, space)\n",
    "    print(total, res)\n",
    "    return total, res\n",
    "\n",
    "W = 15\n",
    "wt = [12, 1, 2, 1, 4]\n",
    "val = [4, 2, 2, 1, 10]\n",
    "assert (seleccionar(W, wt, val) == (36, [0, 3, 0, 0, 3]))"
   ]
  },
  {
   "cell_type": "code",
   "execution_count": 7,
   "id": "f9a2a813",
   "metadata": {},
   "outputs": [],
   "source": []
  }
 ],
 "metadata": {
  "kernelspec": {
   "display_name": "PyCharm (algoritmos)",
   "language": "python",
   "name": "pycharm-929e4421"
  },
  "language_info": {
   "codemirror_mode": {
    "name": "ipython",
    "version": 3
   },
   "file_extension": ".py",
   "mimetype": "text/x-python",
   "name": "python",
   "nbconvert_exporter": "python",
   "pygments_lexer": "ipython3",
   "version": "3.9.7"
  }
 },
 "nbformat": 4,
 "nbformat_minor": 5
}