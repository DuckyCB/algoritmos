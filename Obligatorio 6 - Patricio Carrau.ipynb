{
 "cells": [
  {
   "cell_type": "markdown",
   "id": "c328429a",
   "metadata": {},
   "source": [
    "# Obligatorio 6 - Algoritmos\n",
    "\n",
    "Nombre del estudiante: Patricio Carrau\n",
    "\n",
    "Debajo de cada pregunta o tarea incluya las celdas necesarias para desarrolar la respuesta. Puede usar una o varias celdas de código o mark down (https://www.datacamp.com/community/tutorials/markdown-in-jupyter-notebook)\n",
    "\n",
    "Para entregar, renombrar este notebook como \"Obligatorio 6 - Apellido Nombre\" \n"
   ]
  },
  {
   "cell_type": "markdown",
   "id": "517de5d8",
   "metadata": {},
   "source": [
    "## Ejercicio 1\n",
    "El profesor Mortimer conduce un automóvil de Montevideo a Punta del Este a lo largo de la interbalnearia. El tanque de gasolina de su automóvil, cuando está lleno, tiene suficiente gasolina para viajar $n$ kilometros, y su mapa muestra las distancias desde el kilómetro 0 a las estaciones de servicio en su ruta. El profesor desea hacer el menor número posible de paradas de gasolina en el camino. Al llegar a Punta del Este, siempre carga gasolina (sin importar si tiene el tanque casi lleno) así cuenta con el tanque lleno para la temporada. Proporcione un método eficiente mediante el cual el profesor Mortimer pueda determinar en qué estaciones de servicio debe detenerse.\n",
    "Demuestre que su algoritmo produce una solución óptima."
   ]
  },
  {
   "cell_type": "code",
   "execution_count": 32,
   "id": "d36f60c0",
   "metadata": {},
   "outputs": [
    {
     "name": "stdout",
     "output_type": "stream",
     "text": [
      "[0, 25, 45, 75, 100, 110]\n"
     ]
    }
   ],
   "source": [
    "def paradas(estaciones, n):\n",
    "    ruta = [estaciones[0]]\n",
    "    estacion_previa = 0\n",
    "    for i in range(1, len(estaciones)): # n\n",
    "        # Verifico que el salto de estaciones no sea mayor al tanque de gas\n",
    "        if estaciones[i] - estaciones[i - 1] > 30:\n",
    "            return None\n",
    "        if estaciones[i] - ruta[-1] < n:\n",
    "            estacion_previa = estaciones[i]\n",
    "        else:\n",
    "            ruta.append(estacion_previa)\n",
    "            estacion_previa = estaciones[i]\n",
    "    ruta.append(estaciones[-1])\n",
    "    return ruta\n",
    "\n",
    "assert paradas([0, 15, 25, 45, 75, 100, 110],30) == [0, 25, 45, 75, 100, 110]\n",
    "assert paradas([0, 50, 100], 30) is None"
   ]
  },
  {
   "cell_type": "markdown",
   "id": "9bdfba3a",
   "metadata": {
    "collapsed": false,
    "pycharm": {
     "name": "#%% md\n"
    }
   },
   "source": [
    "Esta solución greedy busca solucionar el problema maximizando la distancia que se puede recorrer desde cada punto hasta el siguiente.\n",
    "Viendo el caso para el primer tramo, comienza con el tanque lleno, y busca el trayecto más largo en la distancia alcanzable con la capacidad del tanque.\n",
    "Para el tramo t, el algoritmo se mantiene, busca el trayecto más largo para llegar a la siguiente estación.\n",
    "De esta forma se maximiza lo más posible el trayecto de los tramos entre estaciones, lo que provoca parar en la menor cantidad de estaciones posible."
   ]
  },
  {
   "cell_type": "markdown",
   "id": "d398aef2",
   "metadata": {},
   "source": [
    "## Ejercicio 2\n",
    "Suponga que se le dan dos conjuntos $A$ y $B$, cada uno de los cuales contiene $n$ números enteros positivos. Puede optar por reordenar cada conjunto como desee. Después de reordenar, sea $a_i$ sea el elemento i-ésimo del conjunto $A$, y $ b_i $ el elemento i-ésimo del conjunto $B$. Luego, recibirá una ganancia de $ \\prod\\limits_{i = 1}^n {{a_i} ^ {b_i}} $. Implemente un algoritmo en Python que maximizará la ganancia. Demuestre que su algoritmo maximiza la recompensa e indique su tiempo de ejecución."
   ]
  },
  {
   "cell_type": "code",
   "execution_count": 36,
   "id": "c148142b",
   "metadata": {},
   "outputs": [],
   "source": [
    "def ganancia(a, b):\n",
    "    _a = sorted(a, reverse=True)\n",
    "    _b = sorted(b, reverse=True)\n",
    "    prod = 1\n",
    "    for i in (range(len(_a))): # n\n",
    "        prod *= _a[i]**_b[i]\n",
    "    return prod\n",
    "\n",
    "assert ganancia([2, 4, 5], [6, 3, 7]) == 2560000000\n"
   ]
  },
  {
   "cell_type": "markdown",
   "id": "d7a4d14c",
   "metadata": {
    "collapsed": false,
    "pycharm": {
     "name": "#%% md\n"
    }
   },
   "source": [
    "Si $a$ y $b$ ya estan ordenados, y asumimos que el tiempo de ejecución de la multiplicacion y la potencia es $c$ (constante), podemos el algoritmo es $O(n)$ con $n$ la cantidad de elementos en las listas.\n",
    "\n",
    "La elección del algoritmo se basa en el funcionamiento de la función exponencial, en la cual mientras mayor es la base y el exponente, mucho mayor será el resultado. Por otro lado, la multiplicación entre los factores, es mayor, mientras mayores sean los números. Por esta razón buscamos entonces conseguir que cada uno de los factores sea lo mayor posible.\n",
    "\n",
    "Podemos demostrarlo también matematicamente, utilizando arrays de tamaño 2.\n",
    "Si tenemos $a=[a_2, a_1]$ y $b=[b_2, b_1]$ ya ordenados decrecientes, tenemos $a_2\\geq a_1$ y $b_2\\geq b_1$.\n",
    "Dada la hipotesis, tenemos entonces:\n",
    "\n",
    "$a_2^{b_2}a_1^{b_1}\\geq a_2^{b_1}a_1^{b_2}$\n",
    "\n",
    "Dividiendo de ambos lados por $a_1^{b_1}$ y $a_2^{b_1}$ obtenemos:\n",
    "\n",
    "$a_2^{b_2-b_1}\\geq a_1^{b_2-b_1}$\n",
    "\n",
    "Como los array estan ordenados decrecientes, tenemos $b_2-b_1\\geq 0$, de donde podemos decir entonces que $a_2^c\\geq a_1^c$ $\\forall c\\geq 0$ por propiedades de exponenciales. De dónde podemos confirmar entonces que al tener los números en orden decreciente, el resultado será mayor o igual a cualquier otro orden.\n",
    "\n"
   ]
  }
 ],
 "metadata": {
  "interpreter": {
   "hash": "11860c5d8a151a92589250c50b2709c7ccb820b31d1c4826c8a03ba7a4344941"
  },
  "kernelspec": {
   "display_name": "PyCharm (algoritmos)",
   "language": "python",
   "name": "python3"
  },
  "language_info": {
   "codemirror_mode": {
    "name": "ipython",
    "version": 3
   },
   "file_extension": ".py",
   "mimetype": "text/x-python",
   "name": "python",
   "nbconvert_exporter": "python",
   "pygments_lexer": "ipython3",
   "version": "3.9.7"
  }
 },
 "nbformat": 4,
 "nbformat_minor": 5
}