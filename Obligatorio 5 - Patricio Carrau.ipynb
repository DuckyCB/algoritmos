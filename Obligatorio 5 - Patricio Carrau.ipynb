{
 "cells": [
  {
   "cell_type": "markdown",
   "id": "ba68a82d",
   "metadata": {},
   "source": [
    "# Obligatorio 5 - Algoritmos\n",
    "\n",
    "\n",
    "\n",
    "Nombre del estudiante: Patricio Carrau\n",
    "\n",
    "Debajo de cada pregunta o tarea incluya las celdas necesarias para desarrolar la respuesta. Puede usar una o varias celdas de código o mark down (https://www.datacamp.com/community/tutorials/markdown-in-jupyter-notebook)\n",
    "\n",
    "Para entregar, renombrar este notebook como \"Obligatorio 5 - Apellido Nombre\" \n"
   ]
  },
  {
   "cell_type": "markdown",
   "id": "6cae8433",
   "metadata": {},
   "source": [
    "### Ejericio 1\n",
    "\n",
    "Mostrar que quick sort no es un algoritmo de ordenamiento estable."
   ]
  },
  {
   "cell_type": "code",
   "execution_count": null,
   "outputs": [],
   "source": [],
   "metadata": {
    "collapsed": false,
    "pycharm": {
     "name": "#%%\n"
    }
   }
  },
  {
   "cell_type": "markdown",
   "id": "5c2f812a",
   "metadata": {},
   "source": [
    "### Ejercicio 2\n",
    "Debe escribir un programa cuyo propósito es calcular algunas estadísticas básicas sobre una colección de algunos enteros positivos relativamente pequeños (puede asumir que todos los valores serán inferiores a 1000).\n",
    "Le daremos un programa principal de muestra, y debe crear las funciones necesarias.\n",
    "\n",
    "El objeto DataCapture tiene la responsabilidad de recopilar números y luego devolver un objeto para que podamos obtener fácilmente estadísticas sobre cuántos números son menores que un valor, mayores que un valor o entre un rango de números.\n",
    "\n",
    "Se debe tener en cuenta:\n",
    "- No se puede realizar ningún import (ni de python, ni librerías de terceros)\n",
    "- Los métodos add() less() greater() and between() tienen que tener tiempo constante O(1)\n",
    "- El método build_stats() puede ser como máximo lineal O(n)"
   ]
  },
  {
   "cell_type": "code",
   "execution_count": 1,
   "id": "26072f6a",
   "metadata": {},
   "outputs": [
    {
     "name": "stdout",
     "output_type": "stream",
     "text": [
      "[3, 9, 3, 4, 6]\n"
     ]
    },
    {
     "ename": "AttributeError",
     "evalue": "'NoneType' object has no attribute 'less'",
     "output_type": "error",
     "traceback": [
      "\u001B[1;31m---------------------------------------------------------------------------\u001B[0m",
      "\u001B[1;31mAttributeError\u001B[0m                            Traceback (most recent call last)",
      "\u001B[1;32mC:\\Users\\PATRIC~1\\AppData\\Local\\Temp/ipykernel_11552/1743539528.py\u001B[0m in \u001B[0;36m<module>\u001B[1;34m\u001B[0m\n\u001B[0;32m     30\u001B[0m \u001B[0mprint\u001B[0m\u001B[1;33m(\u001B[0m\u001B[0mcapture\u001B[0m\u001B[1;33m)\u001B[0m\u001B[1;33m\u001B[0m\u001B[1;33m\u001B[0m\u001B[0m\n\u001B[0;32m     31\u001B[0m \u001B[0mstats\u001B[0m \u001B[1;33m=\u001B[0m \u001B[0mcapture\u001B[0m\u001B[1;33m.\u001B[0m\u001B[0mbuild_stats\u001B[0m\u001B[1;33m(\u001B[0m\u001B[1;33m)\u001B[0m\u001B[1;33m\u001B[0m\u001B[1;33m\u001B[0m\u001B[0m\n\u001B[1;32m---> 32\u001B[1;33m \u001B[1;32massert\u001B[0m \u001B[0mstats\u001B[0m\u001B[1;33m.\u001B[0m\u001B[0mless\u001B[0m\u001B[1;33m(\u001B[0m\u001B[1;36m4\u001B[0m\u001B[1;33m)\u001B[0m \u001B[1;33m==\u001B[0m \u001B[1;36m2\u001B[0m \u001B[1;31m# (3,3 are less than 4)\u001B[0m\u001B[1;33m\u001B[0m\u001B[1;33m\u001B[0m\u001B[0m\n\u001B[0m\u001B[0;32m     33\u001B[0m \u001B[1;32massert\u001B[0m \u001B[0mstats\u001B[0m\u001B[1;33m.\u001B[0m\u001B[0mbetween\u001B[0m\u001B[1;33m(\u001B[0m\u001B[1;36m3\u001B[0m\u001B[1;33m,\u001B[0m \u001B[1;36m6\u001B[0m\u001B[1;33m)\u001B[0m \u001B[1;33m==\u001B[0m \u001B[1;36m4\u001B[0m\u001B[1;31m#  (3,3,4 and 6 are between 3 and 6)\u001B[0m\u001B[1;33m\u001B[0m\u001B[1;33m\u001B[0m\u001B[0m\n\u001B[0;32m     34\u001B[0m \u001B[1;32massert\u001B[0m \u001B[0mstats\u001B[0m\u001B[1;33m.\u001B[0m\u001B[0mgreater\u001B[0m\u001B[1;33m(\u001B[0m\u001B[1;36m4\u001B[0m\u001B[1;33m)\u001B[0m \u001B[1;33m==\u001B[0m \u001B[1;36m2\u001B[0m \u001B[1;31m# (6 and 9 are the only two values greater than 4)\u001B[0m\u001B[1;33m\u001B[0m\u001B[1;33m\u001B[0m\u001B[0m\n",
      "\u001B[1;31mAttributeError\u001B[0m: 'NoneType' object has no attribute 'less'"
     ]
    }
   ],
   "source": [
    "class DataCapture:\n",
    "\n",
    "    def __init__(self):\n",
    "        self._elements = []\n",
    "\n",
    "    def __str__(self):\n",
    "        return str(self._elements)\n",
    "\n",
    "    def add(self, new_element):\n",
    "        self._elements.append(new_element)\n",
    "\n",
    "    def less(self, n):\n",
    "        \n",
    "        return\n",
    "\n",
    "    def greater(self, n):\n",
    "        pass\n",
    "\n",
    "    def between(self, n):\n",
    "        pass\n",
    "\n",
    "    def build_stats(self):\n",
    "        pass\n",
    "\n",
    "capture = DataCapture()\n",
    "capture.add(3)\n",
    "capture.add(9)\n",
    "capture.add(3)\n",
    "capture.add(4)\n",
    "capture.add(6)\n",
    "print(capture)\n",
    "capture.sort()\n",
    "stats = capture.build_stats()\n",
    "assert stats.less(4) == 2 # (3,3 are less than 4)\n",
    "assert stats.between(3, 6) == 4#  (3,3,4 and 6 are between 3 and 6)\n",
    "assert stats.greater(4) == 2 # (6 and 9 are the only two values greater than 4)"
   ]
  },
  {
   "cell_type": "markdown",
   "id": "947d0893",
   "metadata": {},
   "source": [
    "### Ejercicio 3\n",
    "Se considera el problema de dado un grafo no dirigido, indicar si el mismo contiene un ciclo.\n",
    "Se deberá crear la clase Graph, un método para añadir vértices y un método para detectar si existe un ciclo.\n",
    "Se pueden utilizar conjuntos merge-find para la implementación."
   ]
  },
  {
   "cell_type": "code",
   "execution_count": null,
   "id": "d4e642cf",
   "metadata": {},
   "outputs": [],
   "source": [
    "class Graph:\n",
    "\n",
    "    def add_edge(self):\n",
    "        pass\n",
    "\n",
    "    def is_cyclic(self):\n",
    "        pass\n",
    "\n",
    "\n",
    "g = Graph()\n",
    "g.add_edge(0, 1) #arista del vértice 0 al 1\n",
    "g.add_edge(1, 2) #arista del vértice 1 al 2\n",
    "g.add_edge(2, 0) #arista del vértice 2 al 0\n",
    "\n",
    "s = Graph()\n",
    "s.add_edge(0, 1)\n",
    "s.add_edge(1, 2)\n",
    "\n",
    "assert g.is_cyclic() == True\n",
    "assert s.is_cyclic() == False"
   ]
  }
 ],
 "metadata": {
  "kernelspec": {
   "name": "pycharm-929e4421",
   "language": "python",
   "display_name": "PyCharm (algoritmos)"
  },
  "language_info": {
   "codemirror_mode": {
    "name": "ipython",
    "version": 3
   },
   "file_extension": ".py",
   "mimetype": "text/x-python",
   "name": "python",
   "nbconvert_exporter": "python",
   "pygments_lexer": "ipython3",
   "version": "3.8.8"
  }
 },
 "nbformat": 4,
 "nbformat_minor": 5
}