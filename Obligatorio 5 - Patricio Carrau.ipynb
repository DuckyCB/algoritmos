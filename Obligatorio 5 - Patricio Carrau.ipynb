{
 "cells": [
  {
   "cell_type": "markdown",
   "id": "ba68a82d",
   "metadata": {},
   "source": [
    "# Obligatorio 5 - Algoritmos\n",
    "\n",
    "\n",
    "\n",
    "Nombre del estudiante: Patricio Carrau\n",
    "\n",
    "Debajo de cada pregunta o tarea incluya las celdas necesarias para desarrolar la respuesta. Puede usar una o varias celdas de código o mark down (https://www.datacamp.com/community/tutorials/markdown-in-jupyter-notebook)\n",
    "\n",
    "Para entregar, renombrar este notebook como \"Obligatorio 5 - Apellido Nombre\" \n"
   ]
  },
  {
   "cell_type": "markdown",
   "id": "6cae8433",
   "metadata": {},
   "source": [
    "### Ejericio 1\n",
    "\n",
    "Mostrar que quick sort no es un algoritmo de ordenamiento estable."
   ]
  },
  {
   "cell_type": "markdown",
   "metadata": {
    "collapsed": false,
    "pycharm": {
     "name": "#%% md\n"
    }
   },
   "source": [
    "Un algoritmo de ordenamiento es estable si al ordenar los elementos, estos se mantienen en el mismo orden relativo en\n",
    "el que se encontraban originalmente.\n",
    "\n",
    "En el algoritmo clásico de quicksort, se toma un pivot, y se busca en el subarray a la izquierda del pivot, el elemento\n",
    "más grande y mayor que el pivot, para intercambiarlo con el elemento más pequeño y menor que el pivot, del subarray\n",
    "a la derecha del pivot. Este peoceso se repite con el mismo pivot hasta que no se cumplan las condiciones para seguir.\n",
    "\n",
    "Podemos ver fácilmente que quicksort no es estable con un ejemplo:\n",
    "\n",
    "Supongamos el array?  $[1_a, 3_a, 2, 3_b, 1_b]$.\n",
    "\n",
    "Si tomamos $2$ como pivot, buscamos entonces el elemento más grande y mayor que $2$ a la izuqierda, y el elemento más\n",
    "pequeño y menor que $2$ a la derecha: $[1_a, \\underline{3_a}, \\textbf{2}, 3_b, \\underline{1_b}]$.\n",
    "\n",
    "Al realizar el swap entre los elementos, obtenemos: $[1_a, 1_b, 2, 3_b, 3_a]$ donde los elementos quedan ordenados,\n",
    "pero sus posiciones originales no se mantuvieron ($3_b$ quedó antes que $3_a$).\n",
    "\n",
    "Podemos entonces ver que el algoritmo clásico de quicksort no es estable, aunque se pueden realizar implementaciones\n",
    "que si lo son.\n"
   ]
  },
  {
   "cell_type": "markdown",
   "id": "5c2f812a",
   "metadata": {},
   "source": [
    "### Ejercicio 2\n",
    "Debe escribir un programa cuyo propósito es calcular algunas estadísticas básicas sobre una colección de algunos enteros positivos relativamente pequeños (puede asumir que todos los valores serán inferiores a 1000).\n",
    "Le daremos un programa principal de muestra, y debe crear las funciones necesarias.\n",
    "\n",
    "El objeto DataCapture tiene la responsabilidad de recopilar números y luego devolver un objeto para que podamos obtener fácilmente estadísticas sobre cuántos números son menores que un valor, mayores que un valor o entre un rango de números.\n",
    "\n",
    "Se debe tener en cuenta:\n",
    "- No se puede realizar ningún import (ni de python, ni librerías de terceros)\n",
    "- Los métodos add() less() greater() and between() tienen que tener tiempo constante O(1)\n",
    "- El método build_stats() puede ser como máximo lineal O(n)"
   ]
  },
  {
   "cell_type": "code",
   "execution_count": 21,
   "id": "26072f6a",
   "metadata": {},
   "outputs": [],
   "source": [
    "\n",
    "class DataCapture:\n",
    "\n",
    "    def __init__(self):\n",
    "        self._elements = []\n",
    "        self._max_number = 0\n",
    "        self._accumulated = []\n",
    "\n",
    "    def __str__(self):\n",
    "        return str(self._elements)\n",
    "\n",
    "    def add(self, new_element):\n",
    "        self._elements.append(new_element)\n",
    "        if new_element > self._max_number:\n",
    "            self._max_number = new_element\n",
    "\n",
    "    def less(self, n):\n",
    "        return self._accumulated[n - 1]\n",
    "\n",
    "    def greater(self, n):\n",
    "        return self._accumulated[-1] - self._accumulated[n]\n",
    "\n",
    "    def between(self, n, m):\n",
    "        return self._accumulated[m] - self._accumulated[n - 1]\n",
    "\n",
    "    def build_stats(self):\n",
    "        self._accumulated = [0] * (self._max_number + 1)\n",
    "        for element in self._elements:\n",
    "            self._accumulated[element] += 1\n",
    "        for i in range(1, self._max_number + 1):\n",
    "            self._accumulated[i] += self._accumulated[i - 1]\n",
    "\n",
    "\n",
    "capture = DataCapture()\n",
    "capture.add(3)\n",
    "capture.add(9)\n",
    "capture.add(3)\n",
    "capture.add(4)\n",
    "capture.add(6)\n",
    "capture.build_stats()\n",
    "assert capture.less(4) == 2 # (3,3 are less than 4)\n",
    "assert capture.between(3, 6) == 4#  (3,3,4 and 6 are between 3 and 6)\n",
    "assert capture.greater(4) == 2 # (6 and 9 are the only two values greater than 4)"
   ]
  },
  {
   "cell_type": "markdown",
   "metadata": {},
   "source": [
    "Este código tiene un costo $O(n)$ con $n$ la cantidad de elementos que se utilizan, no depende del valor máximo que pueden tomar los elementos."
   ]
  },
  {
   "cell_type": "code",
   "execution_count": null,
   "metadata": {},
   "outputs": [],
   "source": [
    "MAX_NUMBER = 1000\n",
    "\n",
    "class DataCapture:\n",
    "\n",
    "    def __init__(self):\n",
    "        self._elements = [0] * MAX_NUMBER\n",
    "        self._accumulated = [0] * MAX_NUMBER\n",
    "\n",
    "    def __str__(self):\n",
    "        return str(self._elements)\n",
    "\n",
    "    def add(self, new_element):\n",
    "        self._elements[new_element] += 1\n",
    "\n",
    "    def less(self, n):\n",
    "        return self._accumulated[n - 1]\n",
    "\n",
    "    def greater(self, n):\n",
    "        return self._accumulated[MAX_NUMBER - 1] - self._accumulated[n]\n",
    "\n",
    "    def between(self, n, m):\n",
    "        return self._accumulated[m] - self._accumulated[n - 1]\n",
    "\n",
    "    def build_stats(self):\n",
    "        for i in range(MAX_NUMBER):\n",
    "            self._accumulated[i] = self._accumulated[i - 1] + self._elements[i]\n",
    "        return self._accumulated"
   ]
  },
  {
   "cell_type": "markdown",
   "metadata": {},
   "source": [
    "Este código tiene un costo $O(m)$ con $m$ el valor máximo que puede tomar cada valor, no depende de la cantidad de elementos que hay.\n",
    "\n",
    "Si bien no es lo que pide la letra originalmente, es una alternativa interesante cuando $n > 2m$, ya que pasa a tener un costo menor."
   ]
  },
  {
   "cell_type": "markdown",
   "id": "947d0893",
   "metadata": {},
   "source": [
    "### Ejercicio 3\n",
    "Se considera el problema de dado un grafo no dirigido, indicar si el mismo contiene un ciclo.\n",
    "Se deberá crear la clase Graph, un método para añadir vértices y un método para detectar si existe un ciclo.\n",
    "Se pueden utilizar conjuntos merge-find para la implementación."
   ]
  },
  {
   "cell_type": "code",
   "execution_count": 37,
   "id": "d4e642cf",
   "metadata": {},
   "outputs": [
    {
     "name": "stdout",
     "output_type": "stream",
     "text": [
      "{0: [1, 2], 1: [0, 2], 2: [1, 0]}\n",
      "{0: [1], 1: [0, 2], 2: [1]}\n"
     ]
    }
   ],
   "source": [
    "  \n",
    "class Graph:\n",
    "  \n",
    "    def __init__(self):\n",
    "        self.edges = {}\n",
    " \n",
    "    def add_edge(self, v, w):\n",
    "        if v not in self.edges:\n",
    "            self.edges[v] = [w]\n",
    "        else:\n",
    "            self.edges[v].append(w)\n",
    "        if w not in self.edges:\n",
    "            self.edges[w] = [v]\n",
    "        else:\n",
    "            self.edges[w].append(v)\n",
    "  \n",
    "    def is_cyclic_func(self, v, visited, parent):\n",
    "        visited[v] = True\n",
    "        for node in self.edges[v]:\n",
    "            if not visited[node]:\n",
    "                if self.is_cyclic_func(node, visited, v):\n",
    "                    return True\n",
    "            elif parent is not node:\n",
    "                return True\n",
    "         \n",
    "        return False\n",
    "          \n",
    "    def is_cyclic(self):\n",
    "        visited = [False for i in range(len(self.edges))]\n",
    "        for i in range(len(self.edges)):\n",
    "            if not visited[i]:\n",
    "                if self.is_cyclic_func(i,visited,-1):\n",
    "                    return True\n",
    "        return False\n",
    "\n",
    "\n",
    "g = Graph()\n",
    "g.add_edge(0, 1) #arista del vértice 0 al 1\n",
    "g.add_edge(1, 2) #arista del vértice 1 al 2\n",
    "g.add_edge(2, 0) #arista del vértice 2 al 0\n",
    "\n",
    "print(g.edges)\n",
    "\n",
    "s = Graph()\n",
    "s.add_edge(0, 1)\n",
    "s.add_edge(1, 2)\n",
    "\n",
    "print(s.edges)\n",
    "\n",
    "\n",
    "assert g.is_cyclic() == True\n",
    "assert s.is_cyclic() == False"
   ]
  }
 ],
 "metadata": {
  "interpreter": {
   "hash": "11860c5d8a151a92589250c50b2709c7ccb820b31d1c4826c8a03ba7a4344941"
  },
  "kernelspec": {
   "display_name": "Python 3.9.7 64-bit ('algoritmos': conda)",
   "name": "python3"
  },
  "language_info": {
   "codemirror_mode": {
    "name": "ipython",
    "version": 3
   },
   "file_extension": ".py",
   "mimetype": "text/x-python",
   "name": "python",
   "nbconvert_exporter": "python",
   "pygments_lexer": "ipython3",
   "version": "3.9.7"
  }
 },
 "nbformat": 4,
 "nbformat_minor": 5
}