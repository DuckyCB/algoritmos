{
 "cells": [
  {
   "cell_type": "markdown",
   "id": "c328429a",
   "metadata": {},
   "source": [
    "# Obligatorio 2 - Algoritmos\n",
    "\n",
    "\n",
    "\n",
    "Nombre del estudiante: [completar aquí]\n",
    "\n",
    "Debajo de cada pregunta o tarea incluya las celdas necesarias para desarrolar la respuesta. Puede usar una o varias celdas de código o mark down (https://www.datacamp.com/community/tutorials/markdown-in-jupyter-notebook)\n",
    "\n",
    "Para entregar, renombrar este notebook como \"Obligatorio 3 - Apellido Nombre\" \n"
   ]
  },
  {
   "cell_type": "markdown",
   "id": "517de5d8",
   "metadata": {},
   "source": [
    "## Ejercicio 1\n",
    "Probar que la recurrencia $T(n) = 2T(\\frac{n}{2}) + n = Θ(nlgn)$ probando $T(n) = Ω(n lg n)$ (la cota\n",
    "superior está probada en el libro)<ul>\n",
    "\n"
   ]
  },
  {
   "cell_type": "markdown",
   "id": "d398aef2",
   "metadata": {},
   "source": [
    "## Ejercicio 2\n",
    "Mostrar, utilizando el método del árbol, que $T(n) = T(\\frac{n}{3}) + T(\\frac{2n}{3}) + cn = Ω(nlgn)$ donde c es una constante"
   ]
  },
  {
   "cell_type": "markdown",
   "id": "376e62f7",
   "metadata": {},
   "source": [
    "## Ejercicio 3\n",
    "Para cada una de las siguientes recurrencias, dar una cota asintótica superior lo más ajustada posible. Asumir $T(n)$ constante para $n\\leq2$\n",
    "1. $T(n) = 2T(\\frac{n}{2}) + n^{3}$\n",
    "2. $T(n) = T(\\frac{9n}{10}) + n$\n",
    "3. $T(n) = 16T(\\frac{n}{4}) + n^{2}$\n",
    "4. $T(n) = 7T(\\frac{n}{3}) + n^{2}$\n",
    "5. $T(n) = 7T(\\frac{n}{2}) + n^{2}$\n",
    "6. $T(n) = 2T(\\frac{n}{4}) +\\sqrt{n}$\n",
    "7. $T(n) = T(n-1) + n$\n",
    "8. $T(n) = T(\\sqrt{n}) + 1$"
   ]
  },
  {
   "cell_type": "markdown",
   "id": "9adf0293",
   "metadata": {},
   "source": []
  },
  {
   "cell_type": "code",
   "execution_count": null,
   "id": "886d8f34",
   "metadata": {},
   "outputs": [],
   "source": []
  }
 ],
 "metadata": {
  "kernelspec": {
   "display_name": "Python 3",
   "language": "python",
   "name": "python3"
  },
  "language_info": {
   "codemirror_mode": {
    "name": "ipython",
    "version": 3
   },
   "file_extension": ".py",
   "mimetype": "text/x-python",
   "name": "python",
   "nbconvert_exporter": "python",
   "pygments_lexer": "ipython3",
   "version": "3.8.8"
  }
 },
 "nbformat": 4,
 "nbformat_minor": 5
}
