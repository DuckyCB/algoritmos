{
 "cells": [
  {
   "cell_type": "code",
   "execution_count": 1,
   "id": "9ebf242e",
   "metadata": {},
   "outputs": [],
   "source": [
    "l = []\n",
    "\n",
    "\n",
    "def lcs(a, b):\n",
    "    l.append((a, b))\n",
    "    if len(a) == 0:\n",
    "        return ''\n",
    "    elif len(b) == 0:\n",
    "        return ''\n",
    "    elif a[0] == b[0]:  # a(bcbd) y b(dcb)\n",
    "        sub_lcs = lcs(a[1:], b[1:])  # cb\n",
    "        return a[0] + sub_lcs  #acb\n",
    "    else:  # cbcd y # acc\n",
    "        a_lcs = lcs(a, b[1:])  # cc\n",
    "        b_lcs = lcs(a[1:], b)  # c\n",
    "        if len(a_lcs) > len(b_lcs):\n",
    "            return a_lcs\n",
    "        else:\n",
    "            return b_lcs"
   ]
  },
  {
   "cell_type": "code",
   "execution_count": 2,
   "id": "b287d667",
   "metadata": {},
   "outputs": [],
   "source": [
    "\n",
    "assert (lcs('umontevideo', 'antenas') == 'nte')\n",
    "assert (lcs('abbdbab', 'dabdabb') == 'abdab')\n",
    "assert (lcs('abcs', 'acc') == 'ac')\n",
    "assert (lcs('cbcs', 'acc') == 'cc')\n",
    "assert (lcs('bbcs', 'acc') == 'c')\n",
    "assert (lcs('', 'acc') == '')\n",
    "assert (lcs('aa', '') == '')"
   ]
  },
  {
   "cell_type": "code",
   "execution_count": 3,
   "id": "5000bc89",
   "metadata": {},
   "outputs": [],
   "source": [
    "assert (lcs('umontevideo', 'antenas') == 'nte')\n"
   ]
  },
  {
   "cell_type": "code",
   "execution_count": 4,
   "id": "945dbdf9",
   "metadata": {},
   "outputs": [
    {
     "data": {
      "text/plain": "30860"
     },
     "execution_count": 4,
     "metadata": {},
     "output_type": "execute_result"
    }
   ],
   "source": [
    "len(l)\n"
   ]
  },
  {
   "cell_type": "code",
   "execution_count": 5,
   "id": "7644eac4",
   "metadata": {},
   "outputs": [
    {
     "data": {
      "text/plain": "155"
     },
     "execution_count": 5,
     "metadata": {},
     "output_type": "execute_result"
    }
   ],
   "source": [
    "len(set(l))"
   ]
  },
  {
   "cell_type": "code",
   "execution_count": 6,
   "id": "23b260cc",
   "metadata": {},
   "outputs": [],
   "source": [
    "cache = {}\n",
    "l = []\n",
    "\n",
    "\n",
    "def lcs(a, b):\n",
    "    if (a, b) in cache:\n",
    "        print((a, b))\n",
    "        return cache[(a, b)]\n",
    "    l.append((a, b))\n",
    "    if len(a) == 0:\n",
    "        ret = ''\n",
    "    elif len(b) == 0:\n",
    "        ret = ''\n",
    "    elif a[0] == b[0]:  # a(bcbd) y a(dcb)\n",
    "        sub_lcs = lcs(a[1:], b[1:])  # cb\n",
    "        ret = a[0] + sub_lcs  #acb\n",
    "    else:  # cbcd y # acc\n",
    "        a_lcs = lcs(a, b[1:])  # cc\n",
    "        b_lcs = lcs(a[1:], b)  # c\n",
    "        if len(a_lcs) > len(b_lcs):\n",
    "            ret = a_lcs\n",
    "        else:\n",
    "            ret = b_lcs\n",
    "    cache[(a, b)] = ret\n",
    "    return ret"
   ]
  },
  {
   "cell_type": "code",
   "execution_count": 7,
   "id": "2161c662",
   "metadata": {},
   "outputs": [
    {
     "name": "stdout",
     "output_type": "stream",
     "text": [
      "('montevideo', 's')\n",
      "('ontevideo', 's')\n",
      "('ntevideo', 's')\n",
      "('tevideo', 's')\n",
      "('evideo', 's')\n",
      "('video', 's')\n",
      "('ideo', 's')\n",
      "('deo', 's')\n",
      "('eo', 's')\n",
      "('o', 's')\n",
      "('montevideo', 'as')\n",
      "('ontevideo', 'as')\n",
      "('tevideo', 'as')\n",
      "('montevideo', 'nas')\n",
      "('ontevideo', 'nas')\n",
      "('ntevideo', 'nas')\n",
      "('tevideo', 'as')\n",
      "('evideo', 'as')\n",
      "('video', 'as')\n",
      "('ideo', 'as')\n",
      "('deo', 'as')\n",
      "('eo', 'as')\n",
      "('o', 'as')\n",
      "('video', 'nas')\n",
      "('montevideo', 'enas')\n",
      "('ontevideo', 'enas')\n",
      "('ntevideo', 'enas')\n",
      "('evideo', 'enas')\n",
      "('montevideo', 'tenas')\n",
      "('ontevideo', 'tenas')\n",
      "('tevideo', 'tenas')\n",
      "('montevideo', 'ntenas')\n",
      "('ontevideo', 'ntenas')\n",
      "('ntevideo', 'ntenas')\n",
      "('tevideo', 'tenas')\n",
      "('evideo', 'enas')\n",
      "('video', 'nas')\n",
      "('ideo', 'nas')\n",
      "('deo', 'nas')\n",
      "('o', 'nas')\n",
      "('ideo', 'enas')\n",
      "('deo', 'enas')\n",
      "('eo', 'enas')\n",
      "('o', 'nas')\n",
      "('video', 'tenas')\n",
      "('ideo', 'tenas')\n",
      "('deo', 'tenas')\n",
      "('eo', 'tenas')\n",
      "('o', 'tenas')\n",
      "('evideo', 'ntenas')\n",
      "('video', 'ntenas')\n",
      "('ideo', 'ntenas')\n",
      "('deo', 'ntenas')\n",
      "('eo', 'ntenas')\n",
      "('o', 'ntenas')\n"
     ]
    },
    {
     "data": {
      "text/plain": "95"
     },
     "execution_count": 7,
     "metadata": {},
     "output_type": "execute_result"
    }
   ],
   "source": [
    "assert (lcs('umontevideo', 'antenas') == 'nte')\n",
    "len(l)"
   ]
  },
  {
   "cell_type": "code",
   "execution_count": 8,
   "id": "9879735e",
   "metadata": {},
   "outputs": [],
   "source": [
    "cache = {}\n",
    "l = []\n",
    "\n",
    "\n",
    "def lcs(a, b):\n",
    "    l.append((a, b))\n",
    "    if (a, b) in cache:\n",
    "        return cache[(a, b)]\n",
    "    if len(a) == 0:\n",
    "        ret = ''\n",
    "    elif len(b) == 0:\n",
    "        ret = ''\n",
    "    elif a[0] == b[0]:  # a(bcbd) y a(dcb)\n",
    "        sub_lcs = lcs(a[1:], b[1:])  # cb\n",
    "        ret = a[0] + sub_lcs  #acb\n",
    "    else:  # cbcd y # acc\n",
    "        a_lcs = lcs(a, b[1:])  # cc\n",
    "        b_lcs = lcs(a[1:], b)  # c\n",
    "        if len(a_lcs) > len(b_lcs):\n",
    "            ret = a_lcs\n",
    "        else:\n",
    "            ret = b_lcs\n",
    "    cache[(a, b)] = ret\n",
    "    return ret"
   ]
  },
  {
   "cell_type": "code",
   "execution_count": 9,
   "id": "3bc0c1f6",
   "metadata": {},
   "outputs": [],
   "source": [
    "assert (lcs('umontevideo', 'antenas') == 'nte')\n"
   ]
  },
  {
   "cell_type": "code",
   "execution_count": 10,
   "id": "750165b3",
   "metadata": {},
   "outputs": [
    {
     "data": {
      "text/plain": "150"
     },
     "execution_count": 10,
     "metadata": {},
     "output_type": "execute_result"
    }
   ],
   "source": [
    "len(l)"
   ]
  },
  {
   "cell_type": "markdown",
   "id": "7ad8e333",
   "metadata": {},
   "source": [
    "<img src=\"lcs.png\"/>"
   ]
  },
  {
   "cell_type": "code",
   "execution_count": 1,
   "id": "ce561141",
   "metadata": {},
   "outputs": [],
   "source": [
    "def _lcs_origen(a, b):\n",
    "    largos = [[0 for j in range(len(b) + 1)] for i in range(len(a) + 1)]\n",
    "    origen = [['-' for j in range(len(b) + 1)] for i in range(len(a) + 1)]\n",
    "    for i in range(1, len(a) + 1):\n",
    "        for j in range(1, len(b) + 1):\n",
    "            if a[i - 1] == b[j - 1]:\n",
    "                largos[i][j] = largos[i - 1][j - 1] + 1\n",
    "                origen[i][j] = '↖'\n",
    "            elif largos[i - 1][j] >= largos[i][j - 1]:\n",
    "                largos[i][j] = largos[i - 1][j]\n",
    "                origen[i][j] = '↑'\n",
    "            else:\n",
    "                largos[i][j] = largos[i][j - 1]\n",
    "                origen[i][j] = '←'\n",
    "    return origen\n",
    "\n",
    "\n",
    "def _recorrer_origen(origen, a, b):\n",
    "    lcs_ret = []\n",
    "    i, j = len(a), len(b)\n",
    "    while ((i > 0) and (j > 0)):\n",
    "        if origen[i][j] == '↖':\n",
    "            lcs_ret = [a[i - 1]] + lcs_ret\n",
    "            i = i - 1\n",
    "            j = j - 1\n",
    "        elif origen[i][j] == '↑':\n",
    "            i = i - 1\n",
    "        else:\n",
    "            j = j - 1\n",
    "    return \"\".join(lcs_ret)\n",
    "\n",
    "\n",
    "def lcs(a, b):\n",
    "    origen = _lcs_origen(a, b)\n",
    "    return _recorrer_origen(origen, a, b)\n",
    "\n",
    "\n"
   ]
  },
  {
   "cell_type": "code",
   "execution_count": 2,
   "id": "87ec9d74",
   "metadata": {},
   "outputs": [
    {
     "data": {
      "text/plain": "'pine'"
     },
     "execution_count": 2,
     "metadata": {},
     "output_type": "execute_result"
    }
   ],
   "source": [
    "a = 'springtime'\n",
    "b = 'pioneer'\n",
    "lcs(a, b)"
   ]
  },
  {
   "cell_type": "markdown",
   "id": "dc3d0e1d",
   "metadata": {},
   "source": [
    "<img src=\"lcs.png\"/>"
   ]
  },
  {
   "cell_type": "code",
   "execution_count": 12,
   "id": "f9b00459",
   "metadata": {},
   "outputs": [],
   "source": []
  }
 ],
 "metadata": {
  "kernelspec": {
   "name": "pycharm-f7497502",
   "language": "python",
   "display_name": "PyCharm (algoritmos)"
  },
  "language_info": {
   "codemirror_mode": {
    "name": "ipython",
    "version": 3
   },
   "file_extension": ".py",
   "mimetype": "text/x-python",
   "name": "python",
   "nbconvert_exporter": "python",
   "pygments_lexer": "ipython3",
   "version": "3.8.8"
  }
 },
 "nbformat": 4,
 "nbformat_minor": 5
}